{
 "cells": [
  {
   "cell_type": "markdown",
   "id": "e5fb2516",
   "metadata": {},
   "source": [
    "# Анализ гипотез для увеличения выручки - учебный проект\n",
    "Вы — аналитик крупного интернет-магазина. Вместе с отделом маркетинга вы подготовили список гипотез для увеличения выручки.\n",
    "Приоритизируйте гипотезы, запустите A/B-тест и проанализируйте результаты."
   ]
  },
  {
   "cell_type": "markdown",
   "id": "f4e19057",
   "metadata": {},
   "source": [
    "<b>Задачи исследования:</b>\n",
    "<p>1. Изучить имеющиеся гипотезы;\n",
    "<p>2. Приоритизировать имеющиеся гипотезы с помощью фреймворков ICE,RICE;\n",
    "<p>3. Провести анализ A/B тестов;\n",
    "<p>4. Сделать соответствующие выводы относительно имеющихся гипотез."
   ]
  },
  {
   "cell_type": "markdown",
   "id": "ecf81c88",
   "metadata": {},
   "source": [
    "<b>Ход исследования:</b>\n",
    "<p>Данные об имеющихся гипотезах (hypothesis) я получу из файла 'hypothesis.csv'. Именно по этим данным будет выполнятся приоритизация гипотез. Для А/В теста данные о заказах (orders) будут получены из файла 'orders.csv', о посетителях (visitors) - из файла 'visitors.csv'. О качестве данных ничего не известно. Поэтому перед тем, как приступить к задачам исследования, необходимо провести обзор данных.\n",
    "<p>Я проверю данные на наличие ошибок и их влияние на результат исследования. Далее, на этапе предобработки, я исправлю ошибки в данных там, где это возможно и где это не приведёт к искажению результата. Затем создам необходимые столбцы и приступлю к проведению исследовательского анализа, а также приоритизации гипотез и проведению А/В теста.\n",
    "<p><b>Таким образом, исследование будет состоять из следующих этапов:</b>\n",
    "        <p>- Обзор данных\n",
    "        <p>- Предобработка данных\n",
    "        <p>- Приоритизация гипотез с помощью фреймворков ICE,RICE\n",
    "        <p>- Построение соответствующих графиков и их анализ\n",
    "        <p>- Проведение А/В теста и формулировка сооветствующих выводов\n",
    "        <p>- Общий вывод"
   ]
  },
  {
   "cell_type": "markdown",
   "id": "26de3f00",
   "metadata": {},
   "source": [
    "<b>Столбцы датасета:</b>\n",
    "- с информацией о гипотезах (hypothesis):\n",
    "<p></p>\n",
    "<p>\"Hypothesis\" — краткое описание гипотезы\n",
    "<p>\"Reach\" — охват пользователей по 10-балльной шкале\n",
    "<p>\"Impact\" — влияние на пользователей по 10-балльной шкале\n",
    "<p>\"Confidence\" — уверенность в гипотезе по 10-балльной шкале\n",
    "<p>\"Efforts\"  — затраты ресурсов на проверку гипотезы по 10-балльной шкале\n",
    "    <p></p>\n",
    "\n",
    "- с информацией о заказах (orders):\n",
    "<p></p>\n",
    "<p>\"transactionId\" — идентификатор заказа\n",
    "<p>\"visitorId\" — идентификатор пользователя, совершившего заказ\n",
    "<p>\"date\" — дата, когда был совершён заказ\n",
    "<p>\"revenue\" — выручка заказа\n",
    "<p>\"group\" — группа A/B-теста, в которую попал заказ\n",
    "    <p></p>\n",
    "- с информацией о посетителях (visitors):\n",
    "<p></p>\n",
    "<p>\"date\" — дата\n",
    "<p>\"group\" — группа A/B-теста\n",
    "<p>\"visitors\" — количество пользователей в указанную дату в указанной группе A/B-теста"
   ]
  },
  {
   "cell_type": "markdown",
   "id": "ce361a4e",
   "metadata": {},
   "source": [
    "### Изучение исходных данных"
   ]
  },
  {
   "cell_type": "markdown",
   "id": "9f65648a",
   "metadata": {},
   "source": [
    "#### Загружаем библиотеки"
   ]
  },
  {
   "cell_type": "code",
   "execution_count": 1,
   "id": "cb04463b",
   "metadata": {},
   "outputs": [],
   "source": [
    "import os\n",
    "import pandas as pd\n",
    "import seaborn as sb\n",
    "import scipy.stats as stats\n",
    "import datetime as dt\n",
    "import numpy as np\n",
    "import matplotlib.pyplot as plt\n",
    "from pandas.plotting import register_matplotlib_converters\n",
    "import warnings"
   ]
  },
  {
   "cell_type": "code",
   "execution_count": 2,
   "id": "605c8926",
   "metadata": {},
   "outputs": [],
   "source": [
    "pth1 = '/datasets/hypothesis.csv'\n",
    "pth2 = '/datasets/orders.csv'\n",
    "pth3 = '/datasets/visitors.csv'\n",
    "\n",
    "pth4 = 'C:/Users/Даша/Desktop/Бизнес-показатели/Проект 2/hypothesis.csv'\n",
    "pth5 = 'C:/Users/Даша/Desktop/Бизнес-показатели/Проект 2/orders.csv'\n",
    "pth6 = 'C:/Users/Даша/Desktop/Бизнес-показатели/Проект 2/visitors.csv'\n",
    "\n",
    "if os.path.exists(pth1):\n",
    "    hypothesis = pd.read_csv(pth1)\n",
    "elif os.path.exists(pth4):\n",
    "    hypothesis = pd.read_csv(pth4)\n",
    "else:\n",
    "    print('Something is wrong')\n",
    "    \n",
    "if os.path.exists(pth2):\n",
    "    orders = pd.read_csv(pth2)\n",
    "elif os.path.exists(pth5):\n",
    "    orders = pd.read_csv(pth5)\n",
    "else:\n",
    "    print('Something is wrong')\n",
    "\n",
    "if os.path.exists(pth3):\n",
    "    visitors = pd.read_csv(pth3)\n",
    "elif os.path.exists(pth6):\n",
    "    visitors = pd.read_csv(pth6)\n",
    "else:\n",
    "    print('Something is wrong')"
   ]
  },
  {
   "cell_type": "markdown",
   "id": "b71bf6e1",
   "metadata": {},
   "source": [
    "#### Выводим первые 10 строк таблиц, изучаем данные"
   ]
  },
  {
   "cell_type": "code",
   "execution_count": 3,
   "id": "3e7970ff",
   "metadata": {},
   "outputs": [
    {
     "data": {
      "text/plain": [
       "'hypothesis'"
      ]
     },
     "metadata": {},
     "output_type": "display_data"
    },
    {
     "data": {
      "text/html": [
       "<div>\n",
       "<style scoped>\n",
       "    .dataframe tbody tr th:only-of-type {\n",
       "        vertical-align: middle;\n",
       "    }\n",
       "\n",
       "    .dataframe tbody tr th {\n",
       "        vertical-align: top;\n",
       "    }\n",
       "\n",
       "    .dataframe thead th {\n",
       "        text-align: right;\n",
       "    }\n",
       "</style>\n",
       "<table border=\"1\" class=\"dataframe\">\n",
       "  <thead>\n",
       "    <tr style=\"text-align: right;\">\n",
       "      <th></th>\n",
       "      <th>Hypothesis</th>\n",
       "      <th>Reach</th>\n",
       "      <th>Impact</th>\n",
       "      <th>Confidence</th>\n",
       "      <th>Efforts</th>\n",
       "    </tr>\n",
       "  </thead>\n",
       "  <tbody>\n",
       "    <tr>\n",
       "      <th>0</th>\n",
       "      <td>Добавить два новых канала привлечения трафика, что позволит привлекать на 30% больше пользователей</td>\n",
       "      <td>3</td>\n",
       "      <td>10</td>\n",
       "      <td>8</td>\n",
       "      <td>6</td>\n",
       "    </tr>\n",
       "    <tr>\n",
       "      <th>1</th>\n",
       "      <td>Запустить собственную службу доставки, что сократит срок доставки заказов</td>\n",
       "      <td>2</td>\n",
       "      <td>5</td>\n",
       "      <td>4</td>\n",
       "      <td>10</td>\n",
       "    </tr>\n",
       "    <tr>\n",
       "      <th>2</th>\n",
       "      <td>Добавить блоки рекомендаций товаров на сайт интернет магазина, чтобы повысить конверсию и средний чек заказа</td>\n",
       "      <td>8</td>\n",
       "      <td>3</td>\n",
       "      <td>7</td>\n",
       "      <td>3</td>\n",
       "    </tr>\n",
       "    <tr>\n",
       "      <th>3</th>\n",
       "      <td>Изменить структура категорий, что увеличит конверсию, т.к. пользователи быстрее найдут нужный товар</td>\n",
       "      <td>8</td>\n",
       "      <td>3</td>\n",
       "      <td>3</td>\n",
       "      <td>8</td>\n",
       "    </tr>\n",
       "    <tr>\n",
       "      <th>4</th>\n",
       "      <td>Изменить цвет фона главной страницы, чтобы увеличить вовлеченность пользователей</td>\n",
       "      <td>3</td>\n",
       "      <td>1</td>\n",
       "      <td>1</td>\n",
       "      <td>1</td>\n",
       "    </tr>\n",
       "    <tr>\n",
       "      <th>5</th>\n",
       "      <td>Добавить страницу отзывов клиентов о магазине, что позволит увеличить количество заказов</td>\n",
       "      <td>3</td>\n",
       "      <td>2</td>\n",
       "      <td>2</td>\n",
       "      <td>3</td>\n",
       "    </tr>\n",
       "    <tr>\n",
       "      <th>6</th>\n",
       "      <td>Показать на главной странице баннеры с актуальными акциями и распродажами, чтобы увеличить конверсию</td>\n",
       "      <td>5</td>\n",
       "      <td>3</td>\n",
       "      <td>8</td>\n",
       "      <td>3</td>\n",
       "    </tr>\n",
       "    <tr>\n",
       "      <th>7</th>\n",
       "      <td>Добавить форму подписки на все основные страницы, чтобы собрать базу клиентов для email-рассылок</td>\n",
       "      <td>10</td>\n",
       "      <td>7</td>\n",
       "      <td>8</td>\n",
       "      <td>5</td>\n",
       "    </tr>\n",
       "    <tr>\n",
       "      <th>8</th>\n",
       "      <td>Запустить акцию, дающую скидку на товар в день рождения</td>\n",
       "      <td>1</td>\n",
       "      <td>9</td>\n",
       "      <td>9</td>\n",
       "      <td>5</td>\n",
       "    </tr>\n",
       "  </tbody>\n",
       "</table>\n",
       "</div>"
      ],
      "text/plain": [
       "                                                                                                     Hypothesis  \\\n",
       "0            Добавить два новых канала привлечения трафика, что позволит привлекать на 30% больше пользователей   \n",
       "1                                     Запустить собственную службу доставки, что сократит срок доставки заказов   \n",
       "2  Добавить блоки рекомендаций товаров на сайт интернет магазина, чтобы повысить конверсию и средний чек заказа   \n",
       "3           Изменить структура категорий, что увеличит конверсию, т.к. пользователи быстрее найдут нужный товар   \n",
       "4                              Изменить цвет фона главной страницы, чтобы увеличить вовлеченность пользователей   \n",
       "5                      Добавить страницу отзывов клиентов о магазине, что позволит увеличить количество заказов   \n",
       "6          Показать на главной странице баннеры с актуальными акциями и распродажами, чтобы увеличить конверсию   \n",
       "7              Добавить форму подписки на все основные страницы, чтобы собрать базу клиентов для email-рассылок   \n",
       "8                                                       Запустить акцию, дающую скидку на товар в день рождения   \n",
       "\n",
       "   Reach  Impact  Confidence  Efforts  \n",
       "0      3      10           8        6  \n",
       "1      2       5           4       10  \n",
       "2      8       3           7        3  \n",
       "3      8       3           3        8  \n",
       "4      3       1           1        1  \n",
       "5      3       2           2        3  \n",
       "6      5       3           8        3  \n",
       "7     10       7           8        5  \n",
       "8      1       9           9        5  "
      ]
     },
     "metadata": {},
     "output_type": "display_data"
    },
    {
     "name": "stdout",
     "output_type": "stream",
     "text": [
      "\n"
     ]
    },
    {
     "data": {
      "text/plain": [
       "'orders'"
      ]
     },
     "metadata": {},
     "output_type": "display_data"
    },
    {
     "data": {
      "text/html": [
       "<div>\n",
       "<style scoped>\n",
       "    .dataframe tbody tr th:only-of-type {\n",
       "        vertical-align: middle;\n",
       "    }\n",
       "\n",
       "    .dataframe tbody tr th {\n",
       "        vertical-align: top;\n",
       "    }\n",
       "\n",
       "    .dataframe thead th {\n",
       "        text-align: right;\n",
       "    }\n",
       "</style>\n",
       "<table border=\"1\" class=\"dataframe\">\n",
       "  <thead>\n",
       "    <tr style=\"text-align: right;\">\n",
       "      <th></th>\n",
       "      <th>transactionId</th>\n",
       "      <th>visitorId</th>\n",
       "      <th>date</th>\n",
       "      <th>revenue</th>\n",
       "      <th>group</th>\n",
       "    </tr>\n",
       "  </thead>\n",
       "  <tbody>\n",
       "    <tr>\n",
       "      <th>0</th>\n",
       "      <td>3667963787</td>\n",
       "      <td>3312258926</td>\n",
       "      <td>2019-08-15</td>\n",
       "      <td>1650</td>\n",
       "      <td>B</td>\n",
       "    </tr>\n",
       "    <tr>\n",
       "      <th>1</th>\n",
       "      <td>2804400009</td>\n",
       "      <td>3642806036</td>\n",
       "      <td>2019-08-15</td>\n",
       "      <td>730</td>\n",
       "      <td>B</td>\n",
       "    </tr>\n",
       "    <tr>\n",
       "      <th>2</th>\n",
       "      <td>2961555356</td>\n",
       "      <td>4069496402</td>\n",
       "      <td>2019-08-15</td>\n",
       "      <td>400</td>\n",
       "      <td>A</td>\n",
       "    </tr>\n",
       "    <tr>\n",
       "      <th>3</th>\n",
       "      <td>3797467345</td>\n",
       "      <td>1196621759</td>\n",
       "      <td>2019-08-15</td>\n",
       "      <td>9759</td>\n",
       "      <td>B</td>\n",
       "    </tr>\n",
       "    <tr>\n",
       "      <th>4</th>\n",
       "      <td>2282983706</td>\n",
       "      <td>2322279887</td>\n",
       "      <td>2019-08-15</td>\n",
       "      <td>2308</td>\n",
       "      <td>B</td>\n",
       "    </tr>\n",
       "    <tr>\n",
       "      <th>5</th>\n",
       "      <td>182168103</td>\n",
       "      <td>935554773</td>\n",
       "      <td>2019-08-15</td>\n",
       "      <td>2210</td>\n",
       "      <td>B</td>\n",
       "    </tr>\n",
       "    <tr>\n",
       "      <th>6</th>\n",
       "      <td>398296753</td>\n",
       "      <td>2900797465</td>\n",
       "      <td>2019-08-15</td>\n",
       "      <td>1860</td>\n",
       "      <td>B</td>\n",
       "    </tr>\n",
       "    <tr>\n",
       "      <th>7</th>\n",
       "      <td>2626614568</td>\n",
       "      <td>78758296</td>\n",
       "      <td>2019-08-15</td>\n",
       "      <td>1044</td>\n",
       "      <td>A</td>\n",
       "    </tr>\n",
       "    <tr>\n",
       "      <th>8</th>\n",
       "      <td>1576988021</td>\n",
       "      <td>295230930</td>\n",
       "      <td>2019-08-15</td>\n",
       "      <td>13710</td>\n",
       "      <td>A</td>\n",
       "    </tr>\n",
       "    <tr>\n",
       "      <th>9</th>\n",
       "      <td>1506739906</td>\n",
       "      <td>1882260405</td>\n",
       "      <td>2019-08-15</td>\n",
       "      <td>1855</td>\n",
       "      <td>B</td>\n",
       "    </tr>\n",
       "  </tbody>\n",
       "</table>\n",
       "</div>"
      ],
      "text/plain": [
       "   transactionId   visitorId        date  revenue group\n",
       "0     3667963787  3312258926  2019-08-15     1650     B\n",
       "1     2804400009  3642806036  2019-08-15      730     B\n",
       "2     2961555356  4069496402  2019-08-15      400     A\n",
       "3     3797467345  1196621759  2019-08-15     9759     B\n",
       "4     2282983706  2322279887  2019-08-15     2308     B\n",
       "5      182168103   935554773  2019-08-15     2210     B\n",
       "6      398296753  2900797465  2019-08-15     1860     B\n",
       "7     2626614568    78758296  2019-08-15     1044     A\n",
       "8     1576988021   295230930  2019-08-15    13710     A\n",
       "9     1506739906  1882260405  2019-08-15     1855     B"
      ]
     },
     "metadata": {},
     "output_type": "display_data"
    },
    {
     "name": "stdout",
     "output_type": "stream",
     "text": [
      "\n"
     ]
    },
    {
     "data": {
      "text/plain": [
       "'visitors'"
      ]
     },
     "metadata": {},
     "output_type": "display_data"
    },
    {
     "data": {
      "text/html": [
       "<div>\n",
       "<style scoped>\n",
       "    .dataframe tbody tr th:only-of-type {\n",
       "        vertical-align: middle;\n",
       "    }\n",
       "\n",
       "    .dataframe tbody tr th {\n",
       "        vertical-align: top;\n",
       "    }\n",
       "\n",
       "    .dataframe thead th {\n",
       "        text-align: right;\n",
       "    }\n",
       "</style>\n",
       "<table border=\"1\" class=\"dataframe\">\n",
       "  <thead>\n",
       "    <tr style=\"text-align: right;\">\n",
       "      <th></th>\n",
       "      <th>date</th>\n",
       "      <th>group</th>\n",
       "      <th>visitors</th>\n",
       "    </tr>\n",
       "  </thead>\n",
       "  <tbody>\n",
       "    <tr>\n",
       "      <th>0</th>\n",
       "      <td>2019-08-01</td>\n",
       "      <td>A</td>\n",
       "      <td>719</td>\n",
       "    </tr>\n",
       "    <tr>\n",
       "      <th>1</th>\n",
       "      <td>2019-08-02</td>\n",
       "      <td>A</td>\n",
       "      <td>619</td>\n",
       "    </tr>\n",
       "    <tr>\n",
       "      <th>2</th>\n",
       "      <td>2019-08-03</td>\n",
       "      <td>A</td>\n",
       "      <td>507</td>\n",
       "    </tr>\n",
       "    <tr>\n",
       "      <th>3</th>\n",
       "      <td>2019-08-04</td>\n",
       "      <td>A</td>\n",
       "      <td>717</td>\n",
       "    </tr>\n",
       "    <tr>\n",
       "      <th>4</th>\n",
       "      <td>2019-08-05</td>\n",
       "      <td>A</td>\n",
       "      <td>756</td>\n",
       "    </tr>\n",
       "    <tr>\n",
       "      <th>5</th>\n",
       "      <td>2019-08-06</td>\n",
       "      <td>A</td>\n",
       "      <td>667</td>\n",
       "    </tr>\n",
       "    <tr>\n",
       "      <th>6</th>\n",
       "      <td>2019-08-07</td>\n",
       "      <td>A</td>\n",
       "      <td>644</td>\n",
       "    </tr>\n",
       "    <tr>\n",
       "      <th>7</th>\n",
       "      <td>2019-08-08</td>\n",
       "      <td>A</td>\n",
       "      <td>610</td>\n",
       "    </tr>\n",
       "    <tr>\n",
       "      <th>8</th>\n",
       "      <td>2019-08-09</td>\n",
       "      <td>A</td>\n",
       "      <td>617</td>\n",
       "    </tr>\n",
       "    <tr>\n",
       "      <th>9</th>\n",
       "      <td>2019-08-10</td>\n",
       "      <td>A</td>\n",
       "      <td>406</td>\n",
       "    </tr>\n",
       "  </tbody>\n",
       "</table>\n",
       "</div>"
      ],
      "text/plain": [
       "         date group  visitors\n",
       "0  2019-08-01     A       719\n",
       "1  2019-08-02     A       619\n",
       "2  2019-08-03     A       507\n",
       "3  2019-08-04     A       717\n",
       "4  2019-08-05     A       756\n",
       "5  2019-08-06     A       667\n",
       "6  2019-08-07     A       644\n",
       "7  2019-08-08     A       610\n",
       "8  2019-08-09     A       617\n",
       "9  2019-08-10     A       406"
      ]
     },
     "metadata": {},
     "output_type": "display_data"
    }
   ],
   "source": [
    "pd.options.display.max_colwidth = 120\n",
    "\n",
    "display('hypothesis',hypothesis)\n",
    "print()\n",
    "\n",
    "display('orders',orders.head(10))\n",
    "print()\n",
    "\n",
    "display('visitors',visitors.head(10))"
   ]
  },
  {
   "cell_type": "markdown",
   "id": "6ee02d2e",
   "metadata": {},
   "source": [
    "#### Используем метод 'info' для более глубокого понимания полученных данных"
   ]
  },
  {
   "cell_type": "code",
   "execution_count": 4,
   "id": "54f20bb9",
   "metadata": {},
   "outputs": [
    {
     "data": {
      "text/plain": [
       "'hypothesis'"
      ]
     },
     "metadata": {},
     "output_type": "display_data"
    },
    {
     "name": "stdout",
     "output_type": "stream",
     "text": [
      "<class 'pandas.core.frame.DataFrame'>\n",
      "RangeIndex: 9 entries, 0 to 8\n",
      "Data columns (total 5 columns):\n",
      " #   Column      Non-Null Count  Dtype \n",
      "---  ------      --------------  ----- \n",
      " 0   Hypothesis  9 non-null      object\n",
      " 1   Reach       9 non-null      int64 \n",
      " 2   Impact      9 non-null      int64 \n",
      " 3   Confidence  9 non-null      int64 \n",
      " 4   Efforts     9 non-null      int64 \n",
      "dtypes: int64(4), object(1)\n",
      "memory usage: 488.0+ bytes\n",
      "\n"
     ]
    },
    {
     "data": {
      "text/plain": [
       "'orders'"
      ]
     },
     "metadata": {},
     "output_type": "display_data"
    },
    {
     "name": "stdout",
     "output_type": "stream",
     "text": [
      "<class 'pandas.core.frame.DataFrame'>\n",
      "RangeIndex: 1197 entries, 0 to 1196\n",
      "Data columns (total 5 columns):\n",
      " #   Column         Non-Null Count  Dtype \n",
      "---  ------         --------------  ----- \n",
      " 0   transactionId  1197 non-null   int64 \n",
      " 1   visitorId      1197 non-null   int64 \n",
      " 2   date           1197 non-null   object\n",
      " 3   revenue        1197 non-null   int64 \n",
      " 4   group          1197 non-null   object\n",
      "dtypes: int64(3), object(2)\n",
      "memory usage: 46.9+ KB\n",
      "\n"
     ]
    },
    {
     "data": {
      "text/plain": [
       "'visitors'"
      ]
     },
     "metadata": {},
     "output_type": "display_data"
    },
    {
     "name": "stdout",
     "output_type": "stream",
     "text": [
      "<class 'pandas.core.frame.DataFrame'>\n",
      "RangeIndex: 62 entries, 0 to 61\n",
      "Data columns (total 3 columns):\n",
      " #   Column    Non-Null Count  Dtype \n",
      "---  ------    --------------  ----- \n",
      " 0   date      62 non-null     object\n",
      " 1   group     62 non-null     object\n",
      " 2   visitors  62 non-null     int64 \n",
      "dtypes: int64(1), object(2)\n",
      "memory usage: 1.6+ KB\n"
     ]
    }
   ],
   "source": [
    "display('hypothesis')\n",
    "hypothesis.info()\n",
    "print()\n",
    "\n",
    "display('orders')\n",
    "orders.info()\n",
    "print()\n",
    "\n",
    "display('visitors')\n",
    "visitors.info()"
   ]
  },
  {
   "cell_type": "markdown",
   "id": "2425c851",
   "metadata": {},
   "source": [
    "#### Редактируем названия столбцов\n",
    "<p>Переводим все названия столбцов в нижний регистр"
   ]
  },
  {
   "cell_type": "code",
   "execution_count": 5,
   "id": "49248ee6",
   "metadata": {},
   "outputs": [],
   "source": [
    "hypothesis.columns = hypothesis.columns.str.lower()\n",
    "orders.columns = orders.columns.str.lower()\n",
    "visitors.columns = visitors.columns.str.lower()"
   ]
  },
  {
   "cell_type": "markdown",
   "id": "de7e9972",
   "metadata": {},
   "source": [
    "Добавляем ' _ ' в названия столбцов, состоящих из 2 слов:"
   ]
  },
  {
   "cell_type": "code",
   "execution_count": 6,
   "id": "d4deb2f1",
   "metadata": {},
   "outputs": [],
   "source": [
    "orders = orders.rename(columns={'transactionid':'transaction_id','visitorid':'visitor_id'})"
   ]
  },
  {
   "cell_type": "markdown",
   "id": "946154c8",
   "metadata": {},
   "source": [
    "Проверяем"
   ]
  },
  {
   "cell_type": "code",
   "execution_count": 7,
   "id": "26031798",
   "metadata": {},
   "outputs": [
    {
     "data": {
      "text/plain": [
       "'hypothesis'"
      ]
     },
     "metadata": {},
     "output_type": "display_data"
    },
    {
     "data": {
      "text/plain": [
       "Index(['hypothesis', 'reach', 'impact', 'confidence', 'efforts'], dtype='object')"
      ]
     },
     "metadata": {},
     "output_type": "display_data"
    },
    {
     "name": "stdout",
     "output_type": "stream",
     "text": [
      "\n"
     ]
    },
    {
     "data": {
      "text/plain": [
       "'orders'"
      ]
     },
     "metadata": {},
     "output_type": "display_data"
    },
    {
     "data": {
      "text/plain": [
       "Index(['transaction_id', 'visitor_id', 'date', 'revenue', 'group'], dtype='object')"
      ]
     },
     "metadata": {},
     "output_type": "display_data"
    },
    {
     "name": "stdout",
     "output_type": "stream",
     "text": [
      "\n"
     ]
    },
    {
     "data": {
      "text/plain": [
       "'visitors'"
      ]
     },
     "metadata": {},
     "output_type": "display_data"
    },
    {
     "data": {
      "text/plain": [
       "Index(['date', 'group', 'visitors'], dtype='object')"
      ]
     },
     "metadata": {},
     "output_type": "display_data"
    }
   ],
   "source": [
    "display('hypothesis',hypothesis.columns)\n",
    "print()\n",
    "\n",
    "display('orders',orders.columns)\n",
    "print()\n",
    "\n",
    "display('visitors',visitors.columns)"
   ]
  },
  {
   "cell_type": "markdown",
   "id": "99c5da1c",
   "metadata": {},
   "source": [
    "##### Установим границы изучаемого периода"
   ]
  },
  {
   "cell_type": "code",
   "execution_count": 8,
   "id": "4054ce66",
   "metadata": {},
   "outputs": [
    {
     "data": {
      "text/plain": [
       "Timestamp('2019-08-01 00:00:00')"
      ]
     },
     "metadata": {},
     "output_type": "display_data"
    },
    {
     "data": {
      "text/plain": [
       "Timestamp('2019-08-31 00:00:00')"
      ]
     },
     "metadata": {},
     "output_type": "display_data"
    },
    {
     "data": {
      "text/plain": [
       "30"
      ]
     },
     "metadata": {},
     "output_type": "display_data"
    }
   ],
   "source": [
    "min_date=pd.to_datetime(orders['date'], format='%Y-%m-%d').min()\n",
    "max_date=pd.to_datetime(orders['date'], format='%Y-%m-%d').max()\n",
    "days_num = (max_date - min_date).days\n",
    "display(min_date,max_date,days_num)"
   ]
  },
  {
   "cell_type": "markdown",
   "id": "d2beb3b0",
   "metadata": {},
   "source": [
    "#### Строим общую гистограмму для числовых столбцов таблиц c информацией о заказах и посетителях"
   ]
  },
  {
   "cell_type": "code",
   "execution_count": 9,
   "id": "9cfb8e1e",
   "metadata": {},
   "outputs": [
    {
     "data": {
      "image/png": "[encoded data removed]",
      "text/plain": [
       "<Figure size 1000x600 with 4 Axes>"
      ]
     },
     "metadata": {},
     "output_type": "display_data"
    },
    {
     "data": {
      "image/png": "[encoded data removed]",
      "text/plain": [
       "<Figure size 500x300 with 1 Axes>"
      ]
     },
     "metadata": {},
     "output_type": "display_data"
    },
    {
     "data": {
      "image/png": "[encoded data removed]",
      "text/plain": [
       "<Figure size 500x300 with 1 Axes>"
      ]
     },
     "metadata": {},
     "output_type": "display_data"
    }
   ],
   "source": [
    "hypothesis.hist(figsize=(10, 6),bins=10);\n",
    "\n",
    "orders.hist(column='revenue',figsize=(5, 3));\n",
    "\n",
    "visitors.hist(column='visitors',figsize=(5, 3));"
   ]
  },
  {
   "cell_type": "markdown",
   "id": "65ff5344",
   "metadata": {},
   "source": [
    "Как видно из полученных гистограмм показатель выручки имеет преимущественно околонулевые значения. Соответственно, можно сделать вывод, что либо в данных очень много выбросов, либо большинство единичных покупок были совершены на небольшую сумму. Количество посетителей распределено неравномерно, большинство значений расположено около 600-750."
   ]
  },
  {
   "cell_type": "markdown",
   "id": "29361edc",
   "metadata": {},
   "source": [
    "### Предобработка данных"
   ]
  },
  {
   "cell_type": "markdown",
   "id": "a03e7f28",
   "metadata": {},
   "source": [
    "#### Проверяем, в каких столбцах есть пропуски"
   ]
  },
  {
   "cell_type": "code",
   "execution_count": 10,
   "id": "00d398ed",
   "metadata": {},
   "outputs": [
    {
     "data": {
      "text/plain": [
       "'hypothesis'"
      ]
     },
     "metadata": {},
     "output_type": "display_data"
    },
    {
     "data": {
      "text/plain": [
       "hypothesis    0\n",
       "reach         0\n",
       "impact        0\n",
       "confidence    0\n",
       "efforts       0\n",
       "dtype: int64"
      ]
     },
     "metadata": {},
     "output_type": "display_data"
    },
    {
     "name": "stdout",
     "output_type": "stream",
     "text": [
      "\n"
     ]
    },
    {
     "data": {
      "text/plain": [
       "'orders'"
      ]
     },
     "metadata": {},
     "output_type": "display_data"
    },
    {
     "data": {
      "text/plain": [
       "transaction_id    0\n",
       "visitor_id        0\n",
       "date              0\n",
       "revenue           0\n",
       "group             0\n",
       "dtype: int64"
      ]
     },
     "metadata": {},
     "output_type": "display_data"
    },
    {
     "name": "stdout",
     "output_type": "stream",
     "text": [
      "\n"
     ]
    },
    {
     "data": {
      "text/plain": [
       "'visitors'"
      ]
     },
     "metadata": {},
     "output_type": "display_data"
    },
    {
     "data": {
      "text/plain": [
       "date        0\n",
       "group       0\n",
       "visitors    0\n",
       "dtype: int64"
      ]
     },
     "metadata": {},
     "output_type": "display_data"
    }
   ],
   "source": [
    "display('hypothesis',hypothesis.isna().sum())\n",
    "print()\n",
    "\n",
    "display('orders',orders.isna().sum())\n",
    "print()\n",
    "\n",
    "display('visitors',visitors.isna().sum())"
   ]
  },
  {
   "cell_type": "markdown",
   "id": "29ea34d9",
   "metadata": {},
   "source": [
    "Пропусков нет"
   ]
  },
  {
   "cell_type": "markdown",
   "id": "ecfa9065",
   "metadata": {},
   "source": [
    "#### Рассмотрим типы данных в каждом столбце"
   ]
  },
  {
   "cell_type": "code",
   "execution_count": 11,
   "id": "cec0a903",
   "metadata": {},
   "outputs": [
    {
     "data": {
      "text/plain": [
       "'hypothesis'"
      ]
     },
     "metadata": {},
     "output_type": "display_data"
    },
    {
     "data": {
      "text/plain": [
       "hypothesis    object\n",
       "reach          int64\n",
       "impact         int64\n",
       "confidence     int64\n",
       "efforts        int64\n",
       "dtype: object"
      ]
     },
     "metadata": {},
     "output_type": "display_data"
    },
    {
     "name": "stdout",
     "output_type": "stream",
     "text": [
      "\n"
     ]
    },
    {
     "data": {
      "text/plain": [
       "'orders'"
      ]
     },
     "metadata": {},
     "output_type": "display_data"
    },
    {
     "data": {
      "text/plain": [
       "transaction_id     int64\n",
       "visitor_id         int64\n",
       "date              object\n",
       "revenue            int64\n",
       "group             object\n",
       "dtype: object"
      ]
     },
     "metadata": {},
     "output_type": "display_data"
    },
    {
     "name": "stdout",
     "output_type": "stream",
     "text": [
      "\n"
     ]
    },
    {
     "data": {
      "text/plain": [
       "'visitors'"
      ]
     },
     "metadata": {},
     "output_type": "display_data"
    },
    {
     "data": {
      "text/plain": [
       "date        object\n",
       "group       object\n",
       "visitors     int64\n",
       "dtype: object"
      ]
     },
     "metadata": {},
     "output_type": "display_data"
    }
   ],
   "source": [
    "display('hypothesis',hypothesis.dtypes)\n",
    "print()\n",
    "\n",
    "display('orders',orders.dtypes)\n",
    "print()\n",
    "\n",
    "display('visitors',visitors.dtypes)"
   ]
  },
  {
   "cell_type": "markdown",
   "id": "5b8141e9",
   "metadata": {},
   "source": [
    "##### Необходимо изменить тип данных в столбцах:\n",
    "<p><b>- Дата, когда был совершён заказ (date)</b> датасета с <b>заказами (orders)</b>, данные необходимо привести к типу datetime для возможности дальнейших вычислений,</p>\n",
    "<p><b>- Дата посещения (date)</b> датасета с <b>посетителями (visitors)</b>, данные необходимо привести к типу datetime для возможности дальнейших вычислений,</p>\n",
    "<p><b>- Группа A/B-теста, в которую попал заказ (group)</b> датасета с <b>заказами (orders)</b>, данные необходимо привести к типу string для упрощения дальнейшей обработки и группировки,</p>\n",
    "<p><b>- Группа A/B-теста (group)</b> датасета с <b>посетителями (visitors)</b>, данные необходимо привести к типу string для упрощения дальнейшей обработки и группировки.</p>"
   ]
  },
  {
   "cell_type": "markdown",
   "id": "5a84f1e0",
   "metadata": {},
   "source": [
    "##### Меняем тип данных в столбце Дата, когда был совершён заказ (date)"
   ]
  },
  {
   "cell_type": "code",
   "execution_count": 12,
   "id": "30c52e49",
   "metadata": {},
   "outputs": [
    {
     "data": {
      "text/plain": [
       "0      2019-08-15\n",
       "1      2019-08-15\n",
       "2      2019-08-15\n",
       "3      2019-08-15\n",
       "4      2019-08-15\n",
       "          ...    \n",
       "1192   2019-08-14\n",
       "1193   2019-08-14\n",
       "1194   2019-08-14\n",
       "1195   2019-08-14\n",
       "1196   2019-08-15\n",
       "Name: date, Length: 1197, dtype: datetime64[ns]"
      ]
     },
     "execution_count": 12,
     "metadata": {},
     "output_type": "execute_result"
    }
   ],
   "source": [
    "orders['date'] = pd.to_datetime(orders['date'], format='%Y-%m-%d')\n",
    "\n",
    "orders['date']"
   ]
  },
  {
   "cell_type": "markdown",
   "id": "c1684c11",
   "metadata": {},
   "source": [
    "##### Меняем тип данных в столбце Дата посещения (date)"
   ]
  },
  {
   "cell_type": "code",
   "execution_count": 13,
   "id": "908b1141",
   "metadata": {},
   "outputs": [
    {
     "data": {
      "text/plain": [
       "0    2019-08-01\n",
       "1    2019-08-02\n",
       "2    2019-08-03\n",
       "3    2019-08-04\n",
       "4    2019-08-05\n",
       "        ...    \n",
       "57   2019-08-27\n",
       "58   2019-08-28\n",
       "59   2019-08-29\n",
       "60   2019-08-30\n",
       "61   2019-08-31\n",
       "Name: date, Length: 62, dtype: datetime64[ns]"
      ]
     },
     "execution_count": 13,
     "metadata": {},
     "output_type": "execute_result"
    }
   ],
   "source": [
    "visitors['date'] = pd.to_datetime(visitors['date'], format='%Y-%m-%d')\n",
    "\n",
    "visitors['date']"
   ]
  },
  {
   "cell_type": "markdown",
   "id": "13d48031",
   "metadata": {},
   "source": [
    "##### Меняем тип данных в столбце Группа A/B-теста, в которую попал заказ (group)"
   ]
  },
  {
   "cell_type": "code",
   "execution_count": 14,
   "id": "38c05b0e",
   "metadata": {},
   "outputs": [
    {
     "data": {
      "text/plain": [
       "0       B\n",
       "1       B\n",
       "2       A\n",
       "3       B\n",
       "4       B\n",
       "       ..\n",
       "1192    B\n",
       "1193    A\n",
       "1194    A\n",
       "1195    A\n",
       "1196    B\n",
       "Name: group, Length: 1197, dtype: object"
      ]
     },
     "execution_count": 14,
     "metadata": {},
     "output_type": "execute_result"
    }
   ],
   "source": [
    "orders['group'] = orders['group'].astype('str')\n",
    "\n",
    "orders['group']"
   ]
  },
  {
   "cell_type": "markdown",
   "id": "5e7f0821",
   "metadata": {},
   "source": [
    "##### Меняем тип данных в столбце Группа A/B-теста (group)"
   ]
  },
  {
   "cell_type": "code",
   "execution_count": 15,
   "id": "fb1744ad",
   "metadata": {},
   "outputs": [
    {
     "data": {
      "text/plain": [
       "0     A\n",
       "1     A\n",
       "2     A\n",
       "3     A\n",
       "4     A\n",
       "     ..\n",
       "57    B\n",
       "58    B\n",
       "59    B\n",
       "60    B\n",
       "61    B\n",
       "Name: group, Length: 62, dtype: object"
      ]
     },
     "execution_count": 15,
     "metadata": {},
     "output_type": "execute_result"
    }
   ],
   "source": [
    "visitors['group'] = visitors['group'].astype('str')\n",
    "\n",
    "visitors['group']"
   ]
  },
  {
   "cell_type": "markdown",
   "id": "d14fe7dc",
   "metadata": {},
   "source": [
    "#### Устранение дубликатов"
   ]
  },
  {
   "cell_type": "code",
   "execution_count": 16,
   "id": "b88bc173",
   "metadata": {},
   "outputs": [
    {
     "data": {
      "text/plain": [
       "'hypothesis'"
      ]
     },
     "metadata": {},
     "output_type": "display_data"
    },
    {
     "data": {
      "text/plain": [
       "0"
      ]
     },
     "metadata": {},
     "output_type": "display_data"
    },
    {
     "name": "stdout",
     "output_type": "stream",
     "text": [
      "\n"
     ]
    },
    {
     "data": {
      "text/plain": [
       "'orders'"
      ]
     },
     "metadata": {},
     "output_type": "display_data"
    },
    {
     "data": {
      "text/plain": [
       "0"
      ]
     },
     "metadata": {},
     "output_type": "display_data"
    },
    {
     "name": "stdout",
     "output_type": "stream",
     "text": [
      "\n"
     ]
    },
    {
     "data": {
      "text/plain": [
       "'visitors'"
      ]
     },
     "metadata": {},
     "output_type": "display_data"
    },
    {
     "data": {
      "text/plain": [
       "0"
      ]
     },
     "metadata": {},
     "output_type": "display_data"
    }
   ],
   "source": [
    "display('hypothesis',hypothesis.duplicated().sum())\n",
    "print()\n",
    "\n",
    "display('orders',orders.duplicated().sum())\n",
    "print()\n",
    "\n",
    "display('visitors',visitors.duplicated().sum())"
   ]
  },
  {
   "cell_type": "markdown",
   "id": "07c88757",
   "metadata": {},
   "source": [
    "Явных дубликатов в датафреймах нет."
   ]
  },
  {
   "cell_type": "markdown",
   "id": "b8f32767",
   "metadata": {},
   "source": [
    "##### Устраняем неявные дубликаты"
   ]
  },
  {
   "cell_type": "markdown",
   "id": "08d7b48a",
   "metadata": {},
   "source": [
    "<b>Неявные дубликаты могут присутствовать в столбцах:</b>\n",
    "<p><b>- Группа A/B-теста, в которую попал заказ (group)</b> датасета с заказами (orders) - названия групп могут быть написаны в разном регистре или содержать опечатки;\n",
    "<p><b>- Группа A/B-теста (group)</b> датасета с посетителями (visitors) - названия групп могут быть написаны в разном регистре или содержать опечатки."
   ]
  },
  {
   "cell_type": "markdown",
   "id": "435e7ae7",
   "metadata": {},
   "source": [
    "##### Устранение неявных дубликатов в столбце Группа A/B-теста, в которую попал заказ (group)\n",
    "Изучим уникальные значения в данном столбце и их количество"
   ]
  },
  {
   "cell_type": "code",
   "execution_count": 17,
   "id": "95d753d0",
   "metadata": {},
   "outputs": [
    {
     "data": {
      "text/plain": [
       "2"
      ]
     },
     "metadata": {},
     "output_type": "display_data"
    },
    {
     "data": {
      "text/plain": [
       "array(['B', 'A'], dtype=object)"
      ]
     },
     "metadata": {},
     "output_type": "display_data"
    }
   ],
   "source": [
    "display(orders[orders['group'].duplicated() == False]['group'].count())\n",
    "\n",
    "display(orders['group'].unique())"
   ]
  },
  {
   "cell_type": "markdown",
   "id": "29c6f84a",
   "metadata": {},
   "source": [
    "Дубликатов нет"
   ]
  },
  {
   "cell_type": "markdown",
   "id": "38e0ea1f",
   "metadata": {},
   "source": [
    "##### Устранение неявных дубликатов в столбце Группа A/B-теста (group)\n",
    "Изучим уникальные значения в данном столбце и их количество"
   ]
  },
  {
   "cell_type": "code",
   "execution_count": 18,
   "id": "b75a6fca",
   "metadata": {},
   "outputs": [
    {
     "data": {
      "text/plain": [
       "2"
      ]
     },
     "metadata": {},
     "output_type": "display_data"
    },
    {
     "data": {
      "text/plain": [
       "array(['A', 'B'], dtype=object)"
      ]
     },
     "metadata": {},
     "output_type": "display_data"
    }
   ],
   "source": [
    "display(visitors[visitors['group'].duplicated() == False]['group'].count())\n",
    "\n",
    "display(visitors['group'].unique())"
   ]
  },
  {
   "cell_type": "markdown",
   "id": "e3e97328",
   "metadata": {},
   "source": [
    "Дубликатов нет"
   ]
  },
  {
   "cell_type": "markdown",
   "id": "f37e2375",
   "metadata": {},
   "source": [
    "##### Проверим, не попадают ли какие-то пользователи в обе группы\n",
    "Сгруппируем значения группы по идентификатору пользователя в таблице с заказами и проверим есть ли пользователи, принадлежащие не одной, а большему количеству групп."
   ]
  },
  {
   "cell_type": "code",
   "execution_count": 19,
   "id": "2db7f658",
   "metadata": {},
   "outputs": [
    {
     "data": {
      "text/plain": [
       "visitor_id    58\n",
       "group         58\n",
       "dtype: int64"
      ]
     },
     "execution_count": 19,
     "metadata": {},
     "output_type": "execute_result"
    }
   ],
   "source": [
    "visitor_groups=orders.groupby('visitor_id', as_index=False).agg({'group': 'nunique'})\n",
    "visitor_groups[visitor_groups['group'] > 1].count()"
   ]
  },
  {
   "cell_type": "markdown",
   "id": "d118337d",
   "metadata": {},
   "source": [
    "Видим, что существует 58 пользователей, относящихся сразу к двум группам. Уберём их из выборки, чтобы не искажать результаты."
   ]
  },
  {
   "cell_type": "code",
   "execution_count": 20,
   "id": "d14236d3",
   "metadata": {},
   "outputs": [],
   "source": [
    "visitor_duplicated = visitor_groups[visitor_groups['group'] > 1]\n",
    "\n",
    "orders = orders.drop(index=visitor_duplicated.index).reset_index(drop=True)"
   ]
  },
  {
   "cell_type": "markdown",
   "id": "c4ebbbdd",
   "metadata": {},
   "source": [
    "#### Проверка выбросов"
   ]
  },
  {
   "cell_type": "markdown",
   "id": "8f6480c2",
   "metadata": {},
   "source": [
    "<b>Выбросы могут присутствовать в столбцах:</b>\n",
    "<p><b>- Охват пользователей по 10-балльной шкале (reach)</b> датасета с гипотезами (hypothesis) - значения должны располагаться в диапазоне от 0 до 10;\n",
    "<p><b>- Влияние на пользователей по 10-балльной шкале (impact)</b> датасета с гипотезами (hypothesis) - значения должны располагаться в диапазоне от 0 до 10;\n",
    "<p><b>- Уверенность в гипотезе по 10-балльной шкале (confidence)</b> датасета с гипотезами (hypothesis) - значения должны располагаться в диапазоне от 0 до 10;\n",
    "<p><b>- Затраты ресурсов на проверку гипотезы по 10-балльной шкале (efforts)</b> датасета с гипотезами (hypothesis) - значения должны располагаться в диапазоне от 0 до 10."
   ]
  },
  {
   "cell_type": "markdown",
   "id": "ba92fbb3",
   "metadata": {},
   "source": [
    "##### Устранение выбросов в столбце Охват пользователей по 10-балльной шкале (reach)\n",
    "Изучим значения в данном столбце"
   ]
  },
  {
   "cell_type": "code",
   "execution_count": 21,
   "id": "f30b8f77",
   "metadata": {
    "scrolled": false
   },
   "outputs": [
    {
     "data": {
      "text/plain": [
       "array([ 3,  2,  8,  5, 10,  1], dtype=int64)"
      ]
     },
     "metadata": {},
     "output_type": "display_data"
    },
    {
     "data": {
      "image/png": "[encoded data removed]",
      "text/plain": [
       "<Figure size 500x300 with 1 Axes>"
      ]
     },
     "metadata": {},
     "output_type": "display_data"
    }
   ],
   "source": [
    "display(hypothesis['reach'].unique())\n",
    "\n",
    "hypothesis['reach'].hist(bins=10,figsize=(5, 3),color='red');"
   ]
  },
  {
   "cell_type": "markdown",
   "id": "07cdc49f",
   "metadata": {},
   "source": [
    "Выбросов нет."
   ]
  },
  {
   "cell_type": "markdown",
   "id": "0163acca",
   "metadata": {},
   "source": [
    "##### Устранение выбросов в столбце Влияние на пользователей по 10-балльной шкале (impact)\n",
    "Изучим значения в данном столбце"
   ]
  },
  {
   "cell_type": "code",
   "execution_count": 22,
   "id": "1be87534",
   "metadata": {},
   "outputs": [
    {
     "data": {
      "text/plain": [
       "array([10,  5,  3,  1,  2,  7,  9], dtype=int64)"
      ]
     },
     "metadata": {},
     "output_type": "display_data"
    },
    {
     "data": {
      "image/png": "[encoded data removed]",
      "text/plain": [
       "<Figure size 500x300 with 1 Axes>"
      ]
     },
     "metadata": {},
     "output_type": "display_data"
    }
   ],
   "source": [
    "display(hypothesis['impact'].unique())\n",
    "\n",
    "hypothesis['impact'].hist(bins=10,figsize=(5, 3),color='green');"
   ]
  },
  {
   "cell_type": "markdown",
   "id": "c8174401",
   "metadata": {},
   "source": [
    "Выбросов нет."
   ]
  },
  {
   "cell_type": "markdown",
   "id": "c7dee475",
   "metadata": {},
   "source": [
    "##### Устранение выбросов в столбце Уверенность в гипотезе по 10-балльной шкале (confidence)\n",
    "Изучим значения в данном столбце"
   ]
  },
  {
   "cell_type": "code",
   "execution_count": 23,
   "id": "ba0d6b1e",
   "metadata": {},
   "outputs": [
    {
     "data": {
      "text/plain": [
       "array([8, 4, 7, 3, 1, 2, 9], dtype=int64)"
      ]
     },
     "metadata": {},
     "output_type": "display_data"
    },
    {
     "data": {
      "image/png": "[encoded data removed]",
      "text/plain": [
       "<Figure size 500x300 with 1 Axes>"
      ]
     },
     "metadata": {},
     "output_type": "display_data"
    }
   ],
   "source": [
    "display(hypothesis['confidence'].unique())\n",
    "\n",
    "hypothesis['confidence'].hist(bins=10,figsize=(5, 3),color='blue');"
   ]
  },
  {
   "cell_type": "markdown",
   "id": "cbb0d53c",
   "metadata": {},
   "source": [
    "Выбросов нет."
   ]
  },
  {
   "cell_type": "markdown",
   "id": "6917463b",
   "metadata": {},
   "source": [
    "##### Устранение выбросов в столбце Затраты ресурсов на проверку гипотезы по 10-балльной шкале (efforts)\n",
    "Изучим значения в данном столбце"
   ]
  },
  {
   "cell_type": "code",
   "execution_count": 24,
   "id": "89f18017",
   "metadata": {
    "scrolled": false
   },
   "outputs": [
    {
     "data": {
      "text/plain": [
       "array([ 6, 10,  3,  8,  1,  5], dtype=int64)"
      ]
     },
     "metadata": {},
     "output_type": "display_data"
    },
    {
     "data": {
      "image/png": "[encoded data removed]",
      "text/plain": [
       "<Figure size 500x300 with 1 Axes>"
      ]
     },
     "metadata": {},
     "output_type": "display_data"
    }
   ],
   "source": [
    "display(hypothesis['efforts'].unique())\n",
    "\n",
    "hypothesis['efforts'].hist(bins=10,figsize=(5, 3),color='orange');"
   ]
  },
  {
   "cell_type": "markdown",
   "id": "80418bf7",
   "metadata": {},
   "source": [
    "Выбросов нет."
   ]
  },
  {
   "cell_type": "markdown",
   "id": "4bdfe5f2",
   "metadata": {},
   "source": [
    "#### Вывод по разделу\n",
    "Полученные данные являются достаточно качественными, пропуски и дубликаты отсутствуют. Для дальнейшего использования данных необходимо было только привести столбцы датасетов, содержащие информацию о дате, к формату datetime, а также столбцы с данными о группе A/B-теста к строковому формату."
   ]
  },
  {
   "cell_type": "markdown",
   "id": "5ba5f54e",
   "metadata": {},
   "source": [
    "### Приоритизация гипотез"
   ]
  },
  {
   "cell_type": "markdown",
   "id": "f344fd33",
   "metadata": {},
   "source": [
    "##### Выведем все гипотезы и изучим их"
   ]
  },
  {
   "cell_type": "code",
   "execution_count": 25,
   "id": "a1d164cd",
   "metadata": {},
   "outputs": [
    {
     "data": {
      "text/plain": [
       "0              Добавить два новых канала привлечения трафика, что позволит привлекать на 30% больше пользователей\n",
       "1                                       Запустить собственную службу доставки, что сократит срок доставки заказов\n",
       "2    Добавить блоки рекомендаций товаров на сайт интернет магазина, чтобы повысить конверсию и средний чек заказа\n",
       "3             Изменить структура категорий, что увеличит конверсию, т.к. пользователи быстрее найдут нужный товар\n",
       "4                                Изменить цвет фона главной страницы, чтобы увеличить вовлеченность пользователей\n",
       "5                        Добавить страницу отзывов клиентов о магазине, что позволит увеличить количество заказов\n",
       "6            Показать на главной странице баннеры с актуальными акциями и распродажами, чтобы увеличить конверсию\n",
       "7                Добавить форму подписки на все основные страницы, чтобы собрать базу клиентов для email-рассылок\n",
       "8                                                         Запустить акцию, дающую скидку на товар в день рождения\n",
       "Name: hypothesis, dtype: object"
      ]
     },
     "execution_count": 25,
     "metadata": {},
     "output_type": "execute_result"
    }
   ],
   "source": [
    "hypothesis['hypothesis']"
   ]
  },
  {
   "cell_type": "markdown",
   "id": "d9e9e388",
   "metadata": {},
   "source": [
    "#### Применим фреймворк ICE для приоритизации гипотез"
   ]
  },
  {
   "cell_type": "code",
   "execution_count": 26,
   "id": "a7295024",
   "metadata": {},
   "outputs": [
    {
     "data": {
      "text/html": [
       "<style type=\"text/css\">\n",
       "#T_97d34_row0_col1 {\n",
       "  background-color: #b40426;\n",
       "  color: #f1f1f1;\n",
       "}\n",
       "#T_97d34_row1_col1 {\n",
       "  background-color: #ec7f63;\n",
       "  color: #f1f1f1;\n",
       "}\n",
       "#T_97d34_row2_col1 {\n",
       "  background-color: #f7b79b;\n",
       "  color: #000000;\n",
       "}\n",
       "#T_97d34_row3_col1 {\n",
       "  background-color: #d2dbe8;\n",
       "  color: #000000;\n",
       "}\n",
       "#T_97d34_row4_col1 {\n",
       "  background-color: #bfd3f6;\n",
       "  color: #000000;\n",
       "}\n",
       "#T_97d34_row5_col1 {\n",
       "  background-color: #4e68d8;\n",
       "  color: #f1f1f1;\n",
       "}\n",
       "#T_97d34_row6_col1 {\n",
       "  background-color: #4055c8;\n",
       "  color: #f1f1f1;\n",
       "}\n",
       "#T_97d34_row7_col1 {\n",
       "  background-color: #3d50c3;\n",
       "  color: #f1f1f1;\n",
       "}\n",
       "#T_97d34_row8_col1 {\n",
       "  background-color: #3b4cc0;\n",
       "  color: #f1f1f1;\n",
       "}\n",
       "</style>\n",
       "<table id=\"T_97d34\">\n",
       "  <thead>\n",
       "    <tr>\n",
       "      <th class=\"blank level0\" >&nbsp;</th>\n",
       "      <th id=\"T_97d34_level0_col0\" class=\"col_heading level0 col0\" >hypothesis</th>\n",
       "      <th id=\"T_97d34_level0_col1\" class=\"col_heading level0 col1\" >ICE</th>\n",
       "    </tr>\n",
       "  </thead>\n",
       "  <tbody>\n",
       "    <tr>\n",
       "      <th id=\"T_97d34_level0_row0\" class=\"row_heading level0 row0\" >0</th>\n",
       "      <td id=\"T_97d34_row0_col0\" class=\"data row0 col0\" >Запустить акцию, дающую скидку на товар в день рождения</td>\n",
       "      <td id=\"T_97d34_row0_col1\" class=\"data row0 col1\" >16.20</td>\n",
       "    </tr>\n",
       "    <tr>\n",
       "      <th id=\"T_97d34_level0_row1\" class=\"row_heading level0 row1\" >1</th>\n",
       "      <td id=\"T_97d34_row1_col0\" class=\"data row1 col0\" >Добавить два новых канала привлечения трафика, что позволит привлекать на 30% больше пользователей</td>\n",
       "      <td id=\"T_97d34_row1_col1\" class=\"data row1 col1\" >13.33</td>\n",
       "    </tr>\n",
       "    <tr>\n",
       "      <th id=\"T_97d34_level0_row2\" class=\"row_heading level0 row2\" >2</th>\n",
       "      <td id=\"T_97d34_row2_col0\" class=\"data row2 col0\" >Добавить форму подписки на все основные страницы, чтобы собрать базу клиентов для email-рассылок</td>\n",
       "      <td id=\"T_97d34_row2_col1\" class=\"data row2 col1\" >11.20</td>\n",
       "    </tr>\n",
       "    <tr>\n",
       "      <th id=\"T_97d34_level0_row3\" class=\"row_heading level0 row3\" >3</th>\n",
       "      <td id=\"T_97d34_row3_col0\" class=\"data row3 col0\" >Показать на главной странице баннеры с актуальными акциями и распродажами, чтобы увеличить конверсию</td>\n",
       "      <td id=\"T_97d34_row3_col1\" class=\"data row3 col1\" >8.00</td>\n",
       "    </tr>\n",
       "    <tr>\n",
       "      <th id=\"T_97d34_level0_row4\" class=\"row_heading level0 row4\" >4</th>\n",
       "      <td id=\"T_97d34_row4_col0\" class=\"data row4 col0\" >Добавить блоки рекомендаций товаров на сайт интернет магазина, чтобы повысить конверсию и средний чек заказа</td>\n",
       "      <td id=\"T_97d34_row4_col1\" class=\"data row4 col1\" >7.00</td>\n",
       "    </tr>\n",
       "    <tr>\n",
       "      <th id=\"T_97d34_level0_row5\" class=\"row_heading level0 row5\" >5</th>\n",
       "      <td id=\"T_97d34_row5_col0\" class=\"data row5 col0\" >Запустить собственную службу доставки, что сократит срок доставки заказов</td>\n",
       "      <td id=\"T_97d34_row5_col1\" class=\"data row5 col1\" >2.00</td>\n",
       "    </tr>\n",
       "    <tr>\n",
       "      <th id=\"T_97d34_level0_row6\" class=\"row_heading level0 row6\" >6</th>\n",
       "      <td id=\"T_97d34_row6_col0\" class=\"data row6 col0\" >Добавить страницу отзывов клиентов о магазине, что позволит увеличить количество заказов</td>\n",
       "      <td id=\"T_97d34_row6_col1\" class=\"data row6 col1\" >1.33</td>\n",
       "    </tr>\n",
       "    <tr>\n",
       "      <th id=\"T_97d34_level0_row7\" class=\"row_heading level0 row7\" >7</th>\n",
       "      <td id=\"T_97d34_row7_col0\" class=\"data row7 col0\" >Изменить структура категорий, что увеличит конверсию, т.к. пользователи быстрее найдут нужный товар</td>\n",
       "      <td id=\"T_97d34_row7_col1\" class=\"data row7 col1\" >1.12</td>\n",
       "    </tr>\n",
       "    <tr>\n",
       "      <th id=\"T_97d34_level0_row8\" class=\"row_heading level0 row8\" >8</th>\n",
       "      <td id=\"T_97d34_row8_col0\" class=\"data row8 col0\" >Изменить цвет фона главной страницы, чтобы увеличить вовлеченность пользователей</td>\n",
       "      <td id=\"T_97d34_row8_col1\" class=\"data row8 col1\" >1.00</td>\n",
       "    </tr>\n",
       "  </tbody>\n",
       "</table>\n"
      ],
      "text/plain": [
       "<pandas.io.formats.style.Styler at 0x205eb8ddfd0>"
      ]
     },
     "metadata": {},
     "output_type": "display_data"
    }
   ],
   "source": [
    "hypothesis['ICE'] = round(hypothesis['impact'] * hypothesis['confidence']/hypothesis['efforts'],2)\n",
    "\n",
    "display(hypothesis.sort_values(by='ICE', ascending=False)[['hypothesis','ICE']]\n",
    "        .reset_index(drop=True)\n",
    "        .style.format({'ICE': '{:.2f}'})\n",
    "        .background_gradient('coolwarm'))"
   ]
  },
  {
   "cell_type": "markdown",
   "id": "d12bf804",
   "metadata": {},
   "source": [
    "Как видно из полученной таблицы, наиболее приоритетными являются 3 гипотезы, среди которых наиболее приоритетной можно обозначить \"Запустить акцию, дающую скидку на товар в день рождения\", имеющую наибольшее значение ICE - 16,2."
   ]
  },
  {
   "cell_type": "markdown",
   "id": "80a56a87",
   "metadata": {},
   "source": [
    "#### Применим фреймворк RICE для приоритизации гипотез"
   ]
  },
  {
   "cell_type": "code",
   "execution_count": 27,
   "id": "83be6b8f",
   "metadata": {},
   "outputs": [
    {
     "data": {
      "text/html": [
       "<style type=\"text/css\">\n",
       "#T_e67f3_row0_col1 {\n",
       "  background-color: #b40426;\n",
       "  color: #f1f1f1;\n",
       "}\n",
       "#T_e67f3_row1_col1 {\n",
       "  background-color: #d9dce1;\n",
       "  color: #000000;\n",
       "}\n",
       "#T_e67f3_row2_col1, #T_e67f3_row3_col1 {\n",
       "  background-color: #abc8fd;\n",
       "  color: #000000;\n",
       "}\n",
       "#T_e67f3_row4_col1 {\n",
       "  background-color: #6180e9;\n",
       "  color: #f1f1f1;\n",
       "}\n",
       "#T_e67f3_row5_col1 {\n",
       "  background-color: #4b64d5;\n",
       "  color: #f1f1f1;\n",
       "}\n",
       "#T_e67f3_row6_col1, #T_e67f3_row7_col1 {\n",
       "  background-color: #3d50c3;\n",
       "  color: #f1f1f1;\n",
       "}\n",
       "#T_e67f3_row8_col1 {\n",
       "  background-color: #3b4cc0;\n",
       "  color: #f1f1f1;\n",
       "}\n",
       "</style>\n",
       "<table id=\"T_e67f3\">\n",
       "  <thead>\n",
       "    <tr>\n",
       "      <th class=\"blank level0\" >&nbsp;</th>\n",
       "      <th id=\"T_e67f3_level0_col0\" class=\"col_heading level0 col0\" >hypothesis</th>\n",
       "      <th id=\"T_e67f3_level0_col1\" class=\"col_heading level0 col1\" >RICE</th>\n",
       "    </tr>\n",
       "  </thead>\n",
       "  <tbody>\n",
       "    <tr>\n",
       "      <th id=\"T_e67f3_level0_row0\" class=\"row_heading level0 row0\" >0</th>\n",
       "      <td id=\"T_e67f3_row0_col0\" class=\"data row0 col0\" >Добавить форму подписки на все основные страницы, чтобы собрать базу клиентов для email-рассылок</td>\n",
       "      <td id=\"T_e67f3_row0_col1\" class=\"data row0 col1\" >112.00</td>\n",
       "    </tr>\n",
       "    <tr>\n",
       "      <th id=\"T_e67f3_level0_row1\" class=\"row_heading level0 row1\" >1</th>\n",
       "      <td id=\"T_e67f3_row1_col0\" class=\"data row1 col0\" >Добавить блоки рекомендаций товаров на сайт интернет магазина, чтобы повысить конверсию и средний чек заказа</td>\n",
       "      <td id=\"T_e67f3_row1_col1\" class=\"data row1 col1\" >56.00</td>\n",
       "    </tr>\n",
       "    <tr>\n",
       "      <th id=\"T_e67f3_level0_row2\" class=\"row_heading level0 row2\" >2</th>\n",
       "      <td id=\"T_e67f3_row2_col0\" class=\"data row2 col0\" >Добавить два новых канала привлечения трафика, что позволит привлекать на 30% больше пользователей</td>\n",
       "      <td id=\"T_e67f3_row2_col1\" class=\"data row2 col1\" >40.00</td>\n",
       "    </tr>\n",
       "    <tr>\n",
       "      <th id=\"T_e67f3_level0_row3\" class=\"row_heading level0 row3\" >3</th>\n",
       "      <td id=\"T_e67f3_row3_col0\" class=\"data row3 col0\" >Показать на главной странице баннеры с актуальными акциями и распродажами, чтобы увеличить конверсию</td>\n",
       "      <td id=\"T_e67f3_row3_col1\" class=\"data row3 col1\" >40.00</td>\n",
       "    </tr>\n",
       "    <tr>\n",
       "      <th id=\"T_e67f3_level0_row4\" class=\"row_heading level0 row4\" >4</th>\n",
       "      <td id=\"T_e67f3_row4_col0\" class=\"data row4 col0\" >Запустить акцию, дающую скидку на товар в день рождения</td>\n",
       "      <td id=\"T_e67f3_row4_col1\" class=\"data row4 col1\" >16.20</td>\n",
       "    </tr>\n",
       "    <tr>\n",
       "      <th id=\"T_e67f3_level0_row5\" class=\"row_heading level0 row5\" >5</th>\n",
       "      <td id=\"T_e67f3_row5_col0\" class=\"data row5 col0\" >Изменить структура категорий, что увеличит конверсию, т.к. пользователи быстрее найдут нужный товар</td>\n",
       "      <td id=\"T_e67f3_row5_col1\" class=\"data row5 col1\" >9.00</td>\n",
       "    </tr>\n",
       "    <tr>\n",
       "      <th id=\"T_e67f3_level0_row6\" class=\"row_heading level0 row6\" >6</th>\n",
       "      <td id=\"T_e67f3_row6_col0\" class=\"data row6 col0\" >Запустить собственную службу доставки, что сократит срок доставки заказов</td>\n",
       "      <td id=\"T_e67f3_row6_col1\" class=\"data row6 col1\" >4.00</td>\n",
       "    </tr>\n",
       "    <tr>\n",
       "      <th id=\"T_e67f3_level0_row7\" class=\"row_heading level0 row7\" >7</th>\n",
       "      <td id=\"T_e67f3_row7_col0\" class=\"data row7 col0\" >Добавить страницу отзывов клиентов о магазине, что позволит увеличить количество заказов</td>\n",
       "      <td id=\"T_e67f3_row7_col1\" class=\"data row7 col1\" >4.00</td>\n",
       "    </tr>\n",
       "    <tr>\n",
       "      <th id=\"T_e67f3_level0_row8\" class=\"row_heading level0 row8\" >8</th>\n",
       "      <td id=\"T_e67f3_row8_col0\" class=\"data row8 col0\" >Изменить цвет фона главной страницы, чтобы увеличить вовлеченность пользователей</td>\n",
       "      <td id=\"T_e67f3_row8_col1\" class=\"data row8 col1\" >3.00</td>\n",
       "    </tr>\n",
       "  </tbody>\n",
       "</table>\n"
      ],
      "text/plain": [
       "<pandas.io.formats.style.Styler at 0x205ebced820>"
      ]
     },
     "metadata": {},
     "output_type": "display_data"
    }
   ],
   "source": [
    "hypothesis['RICE'] = round(hypothesis['impact'] * hypothesis['confidence'] * hypothesis['reach']/hypothesis['efforts'],2)\n",
    "\n",
    "display(hypothesis.sort_values(by='RICE', ascending=False)[['hypothesis','RICE']]\n",
    "        .reset_index(drop=True)\n",
    "        .style.format({'RICE': '{:.2f}'})\n",
    "        .background_gradient('coolwarm'))"
   ]
  },
  {
   "cell_type": "markdown",
   "id": "f92187c0",
   "metadata": {},
   "source": [
    "Из полученной таблицы видно, что наиболее приоритетной гипотезой является \"Добавить форму подписки на все основные страницы, чтобы собрать базу клиентов для email-рассылок\". Показатель RICE для неё в 2 раза превышает таковой для следующей по приоритетности гипотезы и составляет 112. Также, как наиболее приоритетные можно выделить ещё 3 гипотезы, имеющие высокий показатель RICE: 56,40 и 40 соответственно. \n",
    "\n",
    "<p>Стоит отметить, что для двух фреймворков распределение гипотез по приоритетности различается. Это произошло, поскольку некоторые гипотезы, подразумевающие значительные изменения при достаточно низуих затратах могут затрагивать лишь небольшое количество пользователей. Поэтому при добавлении показателя \"reach\" значительно меняется приоритезация."
   ]
  },
  {
   "cell_type": "markdown",
   "id": "cffbb160",
   "metadata": {},
   "source": [
    "##### Составим общую таблицу"
   ]
  },
  {
   "cell_type": "code",
   "execution_count": 28,
   "id": "10114608",
   "metadata": {},
   "outputs": [
    {
     "data": {
      "text/html": [
       "<style type=\"text/css\">\n",
       "#T_9ffb8_row0_col1, #T_9ffb8_row4_col2 {\n",
       "  background-color: #b40426;\n",
       "  color: #f1f1f1;\n",
       "}\n",
       "#T_9ffb8_row0_col2 {\n",
       "  background-color: #f7b79b;\n",
       "  color: #000000;\n",
       "}\n",
       "#T_9ffb8_row1_col1 {\n",
       "  background-color: #d9dce1;\n",
       "  color: #000000;\n",
       "}\n",
       "#T_9ffb8_row1_col2 {\n",
       "  background-color: #bfd3f6;\n",
       "  color: #000000;\n",
       "}\n",
       "#T_9ffb8_row2_col1, #T_9ffb8_row3_col1 {\n",
       "  background-color: #abc8fd;\n",
       "  color: #000000;\n",
       "}\n",
       "#T_9ffb8_row2_col2 {\n",
       "  background-color: #ec7f63;\n",
       "  color: #f1f1f1;\n",
       "}\n",
       "#T_9ffb8_row3_col2 {\n",
       "  background-color: #d2dbe8;\n",
       "  color: #000000;\n",
       "}\n",
       "#T_9ffb8_row4_col1 {\n",
       "  background-color: #6180e9;\n",
       "  color: #f1f1f1;\n",
       "}\n",
       "#T_9ffb8_row5_col1 {\n",
       "  background-color: #4b64d5;\n",
       "  color: #f1f1f1;\n",
       "}\n",
       "#T_9ffb8_row5_col2, #T_9ffb8_row6_col1, #T_9ffb8_row7_col1 {\n",
       "  background-color: #3d50c3;\n",
       "  color: #f1f1f1;\n",
       "}\n",
       "#T_9ffb8_row6_col2 {\n",
       "  background-color: #4e68d8;\n",
       "  color: #f1f1f1;\n",
       "}\n",
       "#T_9ffb8_row7_col2 {\n",
       "  background-color: #4055c8;\n",
       "  color: #f1f1f1;\n",
       "}\n",
       "#T_9ffb8_row8_col1, #T_9ffb8_row8_col2 {\n",
       "  background-color: #3b4cc0;\n",
       "  color: #f1f1f1;\n",
       "}\n",
       "</style>\n",
       "<table id=\"T_9ffb8\">\n",
       "  <thead>\n",
       "    <tr>\n",
       "      <th class=\"blank level0\" >&nbsp;</th>\n",
       "      <th id=\"T_9ffb8_level0_col0\" class=\"col_heading level0 col0\" >hypothesis</th>\n",
       "      <th id=\"T_9ffb8_level0_col1\" class=\"col_heading level0 col1\" >RICE</th>\n",
       "      <th id=\"T_9ffb8_level0_col2\" class=\"col_heading level0 col2\" >ICE</th>\n",
       "    </tr>\n",
       "  </thead>\n",
       "  <tbody>\n",
       "    <tr>\n",
       "      <th id=\"T_9ffb8_level0_row0\" class=\"row_heading level0 row0\" >0</th>\n",
       "      <td id=\"T_9ffb8_row0_col0\" class=\"data row0 col0\" >Добавить форму подписки на все основные страницы, чтобы собрать базу клиентов для email-рассылок</td>\n",
       "      <td id=\"T_9ffb8_row0_col1\" class=\"data row0 col1\" >112.00</td>\n",
       "      <td id=\"T_9ffb8_row0_col2\" class=\"data row0 col2\" >11.20</td>\n",
       "    </tr>\n",
       "    <tr>\n",
       "      <th id=\"T_9ffb8_level0_row1\" class=\"row_heading level0 row1\" >1</th>\n",
       "      <td id=\"T_9ffb8_row1_col0\" class=\"data row1 col0\" >Добавить блоки рекомендаций товаров на сайт интернет магазина, чтобы повысить конверсию и средний чек заказа</td>\n",
       "      <td id=\"T_9ffb8_row1_col1\" class=\"data row1 col1\" >56.00</td>\n",
       "      <td id=\"T_9ffb8_row1_col2\" class=\"data row1 col2\" >7.00</td>\n",
       "    </tr>\n",
       "    <tr>\n",
       "      <th id=\"T_9ffb8_level0_row2\" class=\"row_heading level0 row2\" >2</th>\n",
       "      <td id=\"T_9ffb8_row2_col0\" class=\"data row2 col0\" >Добавить два новых канала привлечения трафика, что позволит привлекать на 30% больше пользователей</td>\n",
       "      <td id=\"T_9ffb8_row2_col1\" class=\"data row2 col1\" >40.00</td>\n",
       "      <td id=\"T_9ffb8_row2_col2\" class=\"data row2 col2\" >13.33</td>\n",
       "    </tr>\n",
       "    <tr>\n",
       "      <th id=\"T_9ffb8_level0_row3\" class=\"row_heading level0 row3\" >3</th>\n",
       "      <td id=\"T_9ffb8_row3_col0\" class=\"data row3 col0\" >Показать на главной странице баннеры с актуальными акциями и распродажами, чтобы увеличить конверсию</td>\n",
       "      <td id=\"T_9ffb8_row3_col1\" class=\"data row3 col1\" >40.00</td>\n",
       "      <td id=\"T_9ffb8_row3_col2\" class=\"data row3 col2\" >8.00</td>\n",
       "    </tr>\n",
       "    <tr>\n",
       "      <th id=\"T_9ffb8_level0_row4\" class=\"row_heading level0 row4\" >4</th>\n",
       "      <td id=\"T_9ffb8_row4_col0\" class=\"data row4 col0\" >Запустить акцию, дающую скидку на товар в день рождения</td>\n",
       "      <td id=\"T_9ffb8_row4_col1\" class=\"data row4 col1\" >16.20</td>\n",
       "      <td id=\"T_9ffb8_row4_col2\" class=\"data row4 col2\" >16.20</td>\n",
       "    </tr>\n",
       "    <tr>\n",
       "      <th id=\"T_9ffb8_level0_row5\" class=\"row_heading level0 row5\" >5</th>\n",
       "      <td id=\"T_9ffb8_row5_col0\" class=\"data row5 col0\" >Изменить структура категорий, что увеличит конверсию, т.к. пользователи быстрее найдут нужный товар</td>\n",
       "      <td id=\"T_9ffb8_row5_col1\" class=\"data row5 col1\" >9.00</td>\n",
       "      <td id=\"T_9ffb8_row5_col2\" class=\"data row5 col2\" >1.12</td>\n",
       "    </tr>\n",
       "    <tr>\n",
       "      <th id=\"T_9ffb8_level0_row6\" class=\"row_heading level0 row6\" >6</th>\n",
       "      <td id=\"T_9ffb8_row6_col0\" class=\"data row6 col0\" >Запустить собственную службу доставки, что сократит срок доставки заказов</td>\n",
       "      <td id=\"T_9ffb8_row6_col1\" class=\"data row6 col1\" >4.00</td>\n",
       "      <td id=\"T_9ffb8_row6_col2\" class=\"data row6 col2\" >2.00</td>\n",
       "    </tr>\n",
       "    <tr>\n",
       "      <th id=\"T_9ffb8_level0_row7\" class=\"row_heading level0 row7\" >7</th>\n",
       "      <td id=\"T_9ffb8_row7_col0\" class=\"data row7 col0\" >Добавить страницу отзывов клиентов о магазине, что позволит увеличить количество заказов</td>\n",
       "      <td id=\"T_9ffb8_row7_col1\" class=\"data row7 col1\" >4.00</td>\n",
       "      <td id=\"T_9ffb8_row7_col2\" class=\"data row7 col2\" >1.33</td>\n",
       "    </tr>\n",
       "    <tr>\n",
       "      <th id=\"T_9ffb8_level0_row8\" class=\"row_heading level0 row8\" >8</th>\n",
       "      <td id=\"T_9ffb8_row8_col0\" class=\"data row8 col0\" >Изменить цвет фона главной страницы, чтобы увеличить вовлеченность пользователей</td>\n",
       "      <td id=\"T_9ffb8_row8_col1\" class=\"data row8 col1\" >3.00</td>\n",
       "      <td id=\"T_9ffb8_row8_col2\" class=\"data row8 col2\" >1.00</td>\n",
       "    </tr>\n",
       "  </tbody>\n",
       "</table>\n"
      ],
      "text/plain": [
       "<pandas.io.formats.style.Styler at 0x205ead5ae80>"
      ]
     },
     "metadata": {},
     "output_type": "display_data"
    }
   ],
   "source": [
    "display(hypothesis.sort_values(by=['RICE','ICE'], ascending=False)[['hypothesis','RICE','ICE']]\n",
    "        .reset_index(drop=True)\n",
    "        .style.format({'RICE': '{:.2f}','ICE': '{:.2f}'})##### Выведем все гипотезы и изучим их\n",
    "        .background_gradient('coolwarm'))"
   ]
  },
  {
   "cell_type": "markdown",
   "id": "1000e6ed",
   "metadata": {},
   "source": [
    "#### Вывод по разделу"
   ]
  },
  {
   "cell_type": "markdown",
   "id": "eecee8dd",
   "metadata": {},
   "source": [
    "Суммируя вышесказанное, наиболее приоритетными можно выбрать 3 гипотезы:\n",
    "- Добавить форму подписки на все основные страницы, чтобы собрать базу клиентов для email-рассылок;\n",
    "- Добавить блоки рекомендаций товаров на сайт интернет магазина, чтобы повысить конверсию и средний чек заказа;\n",
    "- Добавить два новых канала привлечения трафика, что позволит привлекать на 30% больше пользователей\n",
    "<p></p> \n",
    "<p>Они имеют наибольшие значения как ICE, так и RICE, а значит, несут в себе достаточно важные изменения при значительных масштабах привлечения пользователей к ним."
   ]
  },
  {
   "cell_type": "markdown",
   "id": "dbefbd37",
   "metadata": {},
   "source": [
    "### Анализ A/B-теста"
   ]
  },
  {
   "cell_type": "markdown",
   "id": "4080ffc0",
   "metadata": {},
   "source": [
    "#### Визуально оценим результаты A/B-теста\n",
    "Для этого построим соответствующие графики по кумулятивным метрикам"
   ]
  },
  {
   "cell_type": "markdown",
   "id": "fbd5fec4",
   "metadata": {},
   "source": [
    "##### Построим график кумулятивной выручки по группам"
   ]
  },
  {
   "cell_type": "code",
   "execution_count": 29,
   "id": "b0feb8e8",
   "metadata": {},
   "outputs": [
    {
     "data": {
      "image/png": "[encoded data removed]",
      "text/plain": [
       "<Figure size 1200x500 with 1 Axes>"
      ]
     },
     "metadata": {},
     "output_type": "display_data"
    }
   ],
   "source": [
    "register_matplotlib_converters()\n",
    "sb.set(rc = {'figure.figsize':(12,5)})\n",
    "\n",
    "# создаем массив уникальных пар значений дат и групп теста\n",
    "datesGroups = orders[['date', 'group']].drop_duplicates()\n",
    "\n",
    "# получаем агрегированные кумулятивные по дням данные о заказах\n",
    "ordersAggregated = datesGroups.apply(\n",
    "    lambda x: orders[\n",
    "        np.logical_and(\n",
    "            orders['date'] <= x['date'], orders['group'] == x['group']\n",
    "        )\n",
    "    ].agg(\n",
    "        {\n",
    "            'date': 'max',\n",
    "            'group': 'max',\n",
    "            'transaction_id': 'nunique',\n",
    "            'visitor_id': 'nunique',\n",
    "            'revenue': 'sum',\n",
    "        }\n",
    "    ),\n",
    "    axis=1,\n",
    ").sort_values(by=['date', 'group'])\n",
    "\n",
    "# получаем агрегированные кумулятивные по дням данные о посетителях интернет-магазина \n",
    "visitorsAggregated = datesGroups.apply(\n",
    "    lambda x: visitors[\n",
    "        np.logical_and(\n",
    "            visitors['date'] <= x['date'], visitors['group'] == x['group']\n",
    "        )\n",
    "    ].agg({'date': 'max', 'group': 'max', 'visitors': 'sum'}),\n",
    "    axis=1,\n",
    ").sort_values(by=['date', 'group'])\n",
    "\n",
    "# объединяем кумулятивные данные в одной таблице и присваиваем ее столбцам понятные названия\n",
    "cumulativeData = ordersAggregated.merge(\n",
    "    visitorsAggregated, left_on=['date', 'group'], right_on=['date', 'group']\n",
    ")\n",
    "cumulativeData.columns = [\n",
    "    'date',\n",
    "    'group',\n",
    "    'orders',\n",
    "    'buyers',\n",
    "    'revenue',\n",
    "    'visitors',\n",
    "]\n",
    "\n",
    "# датафрейм с кумулятивным количеством заказов и кумулятивной выручкой по дням в группе А\n",
    "cumulativeRevenueA = cumulativeData[cumulativeData['group']=='A'][['date','revenue', 'orders']]\n",
    "\n",
    "# датафрейм с кумулятивным количеством заказов и кумулятивной выручкой по дням в группе B\n",
    "cumulativeRevenueB = cumulativeData[cumulativeData['group']=='B'][['date','revenue', 'orders']]\n",
    "\n",
    "# Строим график выручки группы А\n",
    "plt.plot(cumulativeRevenueA['date'], cumulativeRevenueA['revenue'], label='A')\n",
    "\n",
    "# Строим график выручки группы B\n",
    "plt.plot(cumulativeRevenueB['date'], cumulativeRevenueB['revenue'], label='B')\n",
    "\n",
    "plt.legend()\n",
    "plt.title('Распределение кумулятивной выручки по группам')\n",
    "plt.xlabel('Дата')\n",
    "plt.ylabel('Выручка')\n",
    "plt.show();"
   ]
  },
  {
   "cell_type": "markdown",
   "id": "b6569ba7",
   "metadata": {},
   "source": [
    "Выручка почти равномерно увеличивается в течение всего теста. Стоит также отметить, что группа В стабильно лидирует на протяжении всего теста. Однако график выручки группы В резко возрастает в августе. Это может сигнализировать о всплесках числа заказов, либо о появлении очень дорогих заказов в выборке, от них неоходимо избавиться."
   ]
  },
  {
   "cell_type": "markdown",
   "id": "683bc538",
   "metadata": {},
   "source": [
    "##### Построим график кумулятивного среднего чека по группам"
   ]
  },
  {
   "cell_type": "code",
   "execution_count": 30,
   "id": "44301728",
   "metadata": {},
   "outputs": [
    {
     "data": {
      "image/png": "[encoded data removed]",
      "text/plain": [
       "<Figure size 1200x500 with 1 Axes>"
      ]
     },
     "metadata": {},
     "output_type": "display_data"
    }
   ],
   "source": [
    "plt.plot(cumulativeRevenueA['date'], cumulativeRevenueA['revenue']/cumulativeRevenueA['orders'], label='A')\n",
    "\n",
    "plt.plot(cumulativeRevenueB['date'], cumulativeRevenueB['revenue']/cumulativeRevenueB['orders'], label='B')\n",
    "\n",
    "plt.legend() \n",
    "plt.title('Распределение кумулятивного среднего чека по группам')\n",
    "plt.xlabel('Дата')\n",
    "plt.ylabel('Средний чек')\n",
    "plt.show();"
   ]
  },
  {
   "cell_type": "markdown",
   "id": "2cadc5a3",
   "metadata": {},
   "source": [
    "Средний чек становится равномерным ближе к концу теста: установился для группы A и падает после резкого скачка для группы B. Возможно, в группу B во второй половине теста попали крупные заказы (резкий всплеск на графике). "
   ]
  },
  {
   "cell_type": "markdown",
   "id": "d6c8f0ce",
   "metadata": {},
   "source": [
    "##### Построим график относительного изменения кумулятивного среднего чека группы B к группе A"
   ]
  },
  {
   "cell_type": "code",
   "execution_count": 31,
   "id": "a7668db8",
   "metadata": {},
   "outputs": [
    {
     "data": {
      "image/png": "[encoded data removed]",
      "text/plain": [
       "<Figure size 1200x500 with 1 Axes>"
      ]
     },
     "metadata": {},
     "output_type": "display_data"
    }
   ],
   "source": [
    "mergedCumulativeRevenue = cumulativeRevenueA.merge(cumulativeRevenueB, left_on='date', right_on='date', how='left',\\\n",
    "                                                   suffixes=['A', 'B'])\n",
    "\n",
    "# cтроим отношение средних чеков\n",
    "plt.plot(mergedCumulativeRevenue['date'], (mergedCumulativeRevenue['revenueB']/mergedCumulativeRevenue['ordersB'])\\\n",
    "         /(mergedCumulativeRevenue['revenueA']/mergedCumulativeRevenue['ordersA'])-1)\n",
    "\n",
    "# добавляем ось X\n",
    "plt.axhline(y=0, color='black', linestyle='--') \n",
    "\n",
    "plt.title('Относительное изменение кумулятивного среднего чека группы B к группе A')\n",
    "plt.xlabel('Дата')\n",
    "plt.ylabel('Средний чек')\n",
    "plt.show();"
   ]
  },
  {
   "cell_type": "markdown",
   "id": "ae3444be",
   "metadata": {},
   "source": [
    "Результаты теста значительно и резко менялись в несколько дат. Видимо, именно тогда были совершены аномальные заказы. Особенно стоит обратить внимание на скачки в начале и конце августа, а также резкий провал 13 числа."
   ]
  },
  {
   "cell_type": "markdown",
   "id": "02fc884c",
   "metadata": {},
   "source": [
    "##### Построим график кумулятивного среднего количества заказов на посетителя по группам"
   ]
  },
  {
   "cell_type": "code",
   "execution_count": 32,
   "id": "60a8cdfe",
   "metadata": {},
   "outputs": [
    {
     "data": {
      "image/png": "[encoded data removed]",
      "text/plain": [
       "<Figure size 1200x500 with 1 Axes>"
      ]
     },
     "metadata": {},
     "output_type": "display_data"
    }
   ],
   "source": [
    "# датафрейм с кумулятивным количеством заказов и кумулятивным количеством посетителей по дням в группе А\n",
    "cumulativeOrdersA = cumulativeData[cumulativeData['group']=='A'][['date','orders','visitors']]\n",
    "\n",
    "# датафрейм с кумулятивным количеством заказов и кумулятивным количеством посетителей по дням в группе B\n",
    "cumulativeOrdersB = cumulativeData[cumulativeData['group']=='B'][['date','orders','visitors']]\n",
    "\n",
    "# Строим график выручки группы А\n",
    "plt.plot(cumulativeOrdersA['date'], cumulativeOrdersA['orders']/cumulativeOrdersA['visitors'], label='A')\n",
    "\n",
    "# Строим график выручки группы B\n",
    "plt.plot(cumulativeOrdersB['date'], cumulativeOrdersB['orders']/cumulativeOrdersB['visitors'], label='B')\n",
    "\n",
    "plt.legend()\n",
    "plt.title('Распределение кумулятивного среднего количества заказов на посетителя по группам')\n",
    "plt.xlabel('Дата')\n",
    "plt.ylabel('Количество заказов')\n",
    "plt.show();"
   ]
  },
  {
   "cell_type": "markdown",
   "id": "0f51ae30",
   "metadata": {},
   "source": [
    "Cреднее количество заказов на посетителя становится равномерным ближе к концу теста: установился для группы A и группы B. Причём для группы В он стабильно выше. Возможно, в обе группы в первой половине теста попали крупные заказы (резкий всплеск на графике)."
   ]
  },
  {
   "cell_type": "markdown",
   "id": "20bc73df",
   "metadata": {},
   "source": [
    "##### Построим график относительного изменения кумулятивного среднего количества заказов на посетителя группы B к группе A"
   ]
  },
  {
   "cell_type": "code",
   "execution_count": 33,
   "id": "8ce91067",
   "metadata": {},
   "outputs": [
    {
     "data": {
      "image/png": "[encoded data removed]",
      "text/plain": [
       "<Figure size 1200x500 with 1 Axes>"
      ]
     },
     "metadata": {},
     "output_type": "display_data"
    }
   ],
   "source": [
    "mergedCumulativeOrders = cumulativeOrdersA.merge(cumulativeOrdersB, left_on='date', right_on='date', how='left',\\\n",
    "                                                   suffixes=['A', 'B'])\n",
    "\n",
    "# cтроим отношение средних чеков\n",
    "plt.plot(mergedCumulativeOrders['date'], (mergedCumulativeOrders['ordersB']/mergedCumulativeOrders['visitorsB'])\\\n",
    "         /(mergedCumulativeOrders['ordersA']/mergedCumulativeOrders['visitorsA'])-1)\n",
    "\n",
    "# добавляем ось X\n",
    "plt.axhline(y=0, color='black', linestyle='--') \n",
    "plt.axhline(y=0.15, color='grey', linestyle='--')\n",
    "\n",
    "plt.title('Относительное изменение кумулятивного среднего количества заказов на посетителя группы B к группе A')\n",
    "plt.xlabel('Дата')\n",
    "plt.ylabel('Количество заказов')\n",
    "plt.show();"
   ]
  },
  {
   "cell_type": "markdown",
   "id": "b1925e70",
   "metadata": {},
   "source": [
    "Результаты теста значительно и резко менялись в несколько раз в начале теста, затем виден значительный прирост и стабилизация. Видимо, в начале теста было совершено аномальное количество заказов или было малое количество посетителей."
   ]
  },
  {
   "cell_type": "markdown",
   "id": "a393f962",
   "metadata": {},
   "source": [
    "##### Построим точечный график количества заказов по пользователям"
   ]
  },
  {
   "cell_type": "code",
   "execution_count": 34,
   "id": "6e38a525",
   "metadata": {},
   "outputs": [
    {
     "data": {
      "image/png": "[encoded data removed]",
      "text/plain": [
       "<Figure size 1200x500 with 1 Axes>"
      ]
     },
     "metadata": {},
     "output_type": "display_data"
    }
   ],
   "source": [
    "ordersByUsers = (\n",
    "    orders.groupby('visitor_id', as_index=False)\n",
    "    .agg({'transaction_id': 'nunique'})\n",
    ")\n",
    "ordersByUsers.columns = ['visitor_id', 'orders']\n",
    "\n",
    "x_values = pd.Series(range(0,len(ordersByUsers)))\n",
    "\n",
    "plt.scatter(x_values, ordersByUsers['orders'])\n",
    "\n",
    "plt.title('Распределение количества заказов по пользователям')\n",
    "plt.xlabel('Количество пользователей')\n",
    "plt.ylabel('Количество заказов')\n",
    "plt.show();"
   ]
  },
  {
   "cell_type": "markdown",
   "id": "56033b18",
   "metadata": {},
   "source": [
    "На основании графика можно сделать вывод, что много пользователей с 2-5 заказами. Их точная доля не ясна — непонятно, считать их аномалиями или нет."
   ]
  },
  {
   "cell_type": "markdown",
   "id": "c859aab4",
   "metadata": {},
   "source": [
    "##### Посчитаем 95-й и 99-й перцентили количества заказов на пользователя"
   ]
  },
  {
   "cell_type": "code",
   "execution_count": 35,
   "id": "b00ac2cb",
   "metadata": {
    "scrolled": true
   },
   "outputs": [
    {
     "data": {
      "text/plain": [
       "array([2.  , 4.18])"
      ]
     },
     "execution_count": 35,
     "metadata": {},
     "output_type": "execute_result"
    }
   ],
   "source": [
    "np.percentile(ordersByUsers['orders'], [95, 99])"
   ]
  },
  {
   "cell_type": "markdown",
   "id": "0b38a345",
   "metadata": {},
   "source": [
    "Не более 5% пользователей оформляли больше чем 2 заказа. Выбререм 2-3 заказа на одного пользователя за верхнюю границу числа заказов, и отсеим аномальных пользователей по ней."
   ]
  },
  {
   "cell_type": "markdown",
   "id": "9a907a07",
   "metadata": {},
   "source": [
    "##### Построим точечный график стоимостей заказов"
   ]
  },
  {
   "cell_type": "code",
   "execution_count": 36,
   "id": "426948fb",
   "metadata": {},
   "outputs": [
    {
     "data": {
      "image/png": "[encoded data removed]",
      "text/plain": [
       "<Figure size 1200x500 with 1 Axes>"
      ]
     },
     "metadata": {},
     "output_type": "display_data"
    }
   ],
   "source": [
    "revenueByOrders = (\n",
    "    orders.groupby('transaction_id', as_index=False)\n",
    "    .agg({'revenue': 'sum'})\n",
    ")\n",
    "revenueByOrders.columns = ['orders', 'revenue']\n",
    "\n",
    "x_values = pd.Series(range(0,len(revenueByOrders)))\n",
    "\n",
    "plt.scatter(x_values, revenueByOrders['revenue'])\n",
    "\n",
    "plt.title('Распределение стоимостей заказов')\n",
    "plt.xlabel('Количество заказов')\n",
    "plt.ylabel('Стоимость заказа')\n",
    "plt.show();"
   ]
  },
  {
   "cell_type": "markdown",
   "id": "f47d87b9",
   "metadata": {},
   "source": [
    "Изменим масштаб, убрав выбросы, и более детально посмотрим на распределение стоимостей заказов."
   ]
  },
  {
   "cell_type": "code",
   "execution_count": 37,
   "id": "6eb4b0aa",
   "metadata": {},
   "outputs": [
    {
     "data": {
      "image/png": "[encoded data removed]",
      "text/plain": [
       "<Figure size 1200x500 with 1 Axes>"
      ]
     },
     "metadata": {},
     "output_type": "display_data"
    }
   ],
   "source": [
    "revenueByOrders2 = revenueByOrders[revenueByOrders['revenue'] < 20000]\n",
    "\n",
    "x_values = pd.Series(range(0,len(revenueByOrders2)))\n",
    "\n",
    "plt.scatter(x_values, revenueByOrders2['revenue'])\n",
    "\n",
    "plt.title('Распределение стоимостей заказов')\n",
    "plt.xlabel('Количество заказов')\n",
    "plt.ylabel('Стоимость заказа')\n",
    "plt.show();"
   ]
  },
  {
   "cell_type": "markdown",
   "id": "8072765b",
   "metadata": {},
   "source": [
    "Большинство заказов совершено на сумму в районе 0-15000 усл.ед. Есть выбросы в районе 20000 и 130000 усл.ед."
   ]
  },
  {
   "cell_type": "code",
   "execution_count": 38,
   "id": "4ca535a8",
   "metadata": {},
   "outputs": [
    {
     "data": {
      "text/plain": [
       "array([27638.5, 57623.4])"
      ]
     },
     "execution_count": 38,
     "metadata": {},
     "output_type": "execute_result"
    }
   ],
   "source": [
    "np.percentile(revenueByOrders['revenue'], [95, 99])"
   ]
  },
  {
   "cell_type": "markdown",
   "id": "981aa9e1",
   "metadata": {},
   "source": [
    "Не более 5% заказов стоили больше чем 28000 усл.ед. Выбререм 28000 усл.ед на один заказ за верхнюю границу стоимости заказа, и отсеим аномальные заказы по ней."
   ]
  },
  {
   "cell_type": "markdown",
   "id": "9da9cb2b",
   "metadata": {},
   "source": [
    "#### Посчитаем статистическую значимость"
   ]
  },
  {
   "cell_type": "markdown",
   "id": "e5cff98e",
   "metadata": {},
   "source": [
    "##### Посчитаем статистическую значимость различий в среднем количестве заказов на посетителя между группами по «сырым» данным\n",
    "Сформулируем гипотезы. \n",
    "- Нулевая: Статистически значимых различий в среднем количестве заказов между группами по «сырым» данным нет. \n",
    "- Альтернативная: Статистически значимые различия в среднем между группами по «сырым» данным есть."
   ]
  },
  {
   "cell_type": "markdown",
   "id": "789fd6f9",
   "metadata": {},
   "source": [
    "Подготовим данные: создадим таблицу data с необходимыми для анализа данными.\n",
    "\n",
    "Названия столбцов данных:\n",
    "- date — дата;\n",
    "- ordersPerDateA — количество заказов в выбранную дату в группе A;\n",
    "- revenuePerDateA — суммарная выручка в выбранную дату в группе A;\n",
    "- ordersPerDateB — количество заказов в выбранную дату в группе B;\n",
    "- revenuePerDateB — суммарная выручка в выбранную дату в группе B;\n",
    "- visitorsPerDateA — количество пользователей в выбранную дату в группе A;\n",
    "- visitorsPerDateB — количество пользователей в выбранную дату в группе B."
   ]
  },
  {
   "cell_type": "code",
   "execution_count": 39,
   "id": "e5f899d6",
   "metadata": {},
   "outputs": [
    {
     "data": {
      "text/html": [
       "<div>\n",
       "<style scoped>\n",
       "    .dataframe tbody tr th:only-of-type {\n",
       "        vertical-align: middle;\n",
       "    }\n",
       "\n",
       "    .dataframe tbody tr th {\n",
       "        vertical-align: top;\n",
       "    }\n",
       "\n",
       "    .dataframe thead th {\n",
       "        text-align: right;\n",
       "    }\n",
       "</style>\n",
       "<table border=\"1\" class=\"dataframe\">\n",
       "  <thead>\n",
       "    <tr style=\"text-align: right;\">\n",
       "      <th></th>\n",
       "      <th>date</th>\n",
       "      <th>ordersPerDateA</th>\n",
       "      <th>revenuePerDateA</th>\n",
       "      <th>ordersPerDateB</th>\n",
       "      <th>revenuePerDateB</th>\n",
       "      <th>visitorsPerDateA</th>\n",
       "      <th>visitorsPerDateB</th>\n",
       "    </tr>\n",
       "  </thead>\n",
       "  <tbody>\n",
       "    <tr>\n",
       "      <th>0</th>\n",
       "      <td>2019-08-01</td>\n",
       "      <td>22</td>\n",
       "      <td>140029</td>\n",
       "      <td>19</td>\n",
       "      <td>93312</td>\n",
       "      <td>719</td>\n",
       "      <td>713</td>\n",
       "    </tr>\n",
       "    <tr>\n",
       "      <th>1</th>\n",
       "      <td>2019-08-02</td>\n",
       "      <td>19</td>\n",
       "      <td>92932</td>\n",
       "      <td>24</td>\n",
       "      <td>165531</td>\n",
       "      <td>619</td>\n",
       "      <td>581</td>\n",
       "    </tr>\n",
       "    <tr>\n",
       "      <th>2</th>\n",
       "      <td>2019-08-03</td>\n",
       "      <td>23</td>\n",
       "      <td>91483</td>\n",
       "      <td>14</td>\n",
       "      <td>78278</td>\n",
       "      <td>507</td>\n",
       "      <td>509</td>\n",
       "    </tr>\n",
       "    <tr>\n",
       "      <th>3</th>\n",
       "      <td>2019-08-04</td>\n",
       "      <td>16</td>\n",
       "      <td>70825</td>\n",
       "      <td>15</td>\n",
       "      <td>100762</td>\n",
       "      <td>717</td>\n",
       "      <td>770</td>\n",
       "    </tr>\n",
       "    <tr>\n",
       "      <th>4</th>\n",
       "      <td>2019-08-05</td>\n",
       "      <td>24</td>\n",
       "      <td>117798</td>\n",
       "      <td>22</td>\n",
       "      <td>91008</td>\n",
       "      <td>756</td>\n",
       "      <td>707</td>\n",
       "    </tr>\n",
       "  </tbody>\n",
       "</table>\n",
       "</div>"
      ],
      "text/plain": [
       "        date  ordersPerDateA  revenuePerDateA  ordersPerDateB  \\\n",
       "0 2019-08-01              22           140029              19   \n",
       "1 2019-08-02              19            92932              24   \n",
       "2 2019-08-03              23            91483              14   \n",
       "3 2019-08-04              16            70825              15   \n",
       "4 2019-08-05              24           117798              22   \n",
       "\n",
       "   revenuePerDateB  visitorsPerDateA  visitorsPerDateB  \n",
       "0            93312               719               713  \n",
       "1           165531               619               581  \n",
       "2            78278               507               509  \n",
       "3           100762               717               770  \n",
       "4            91008               756               707  "
      ]
     },
     "metadata": {},
     "output_type": "display_data"
    }
   ],
   "source": [
    "visitorsADaily = visitors[visitors['group'] == 'A'][['date', 'visitors']]\n",
    "visitorsADaily.columns = ['date', 'visitorsPerDateA']\n",
    "\n",
    "visitorsBDaily = visitors[visitors['group'] == 'B'][['date', 'visitors']]\n",
    "visitorsBDaily.columns = ['date', 'visitorsPerDateB']\n",
    "\n",
    "ordersADaily = (\n",
    "    orders[orders['group'] == 'A'][['date', 'transaction_id', 'visitor_id', 'revenue']]\n",
    "    .groupby('date', as_index=False)\n",
    "    .agg({'transaction_id': pd.Series.nunique, 'revenue': 'sum'})\n",
    ")\n",
    "ordersADaily.columns = ['date', 'ordersPerDateA', 'revenuePerDateA']\n",
    "\n",
    "ordersBDaily = (\n",
    "    orders[orders['group'] == 'B'][['date', 'transaction_id', 'visitor_id', 'revenue']]\n",
    "    .groupby('date', as_index=False)\n",
    "    .agg({'transaction_id': pd.Series.nunique, 'revenue': 'sum'})\n",
    ")\n",
    "ordersBDaily.columns = ['date', 'ordersPerDateB', 'revenuePerDateB']\n",
    "\n",
    "data = (\n",
    "    ordersADaily.merge(\n",
    "        ordersBDaily, left_on='date', right_on='date', how='left'\n",
    "    )\n",
    "    .merge(visitorsADaily, left_on='date', right_on='date', how='left')\n",
    "    .merge(visitorsBDaily, left_on='date', right_on='date', how='left')\n",
    ")\n",
    "\n",
    "display(data.head(5))"
   ]
  },
  {
   "cell_type": "code",
   "execution_count": 40,
   "id": "bfd3272f",
   "metadata": {},
   "outputs": [],
   "source": [
    "#Создадим переменные ordersByUsersA и ordersByUsersB со столбцами ['visitor_id', 'orders'].\n",
    "ordersByUsersA = (\n",
    "    orders[orders['group'] == 'A']\n",
    "    .groupby('visitor_id', as_index=False)\n",
    "    .agg({'transaction_id': pd.Series.nunique})\n",
    ")\n",
    "ordersByUsersA.columns = ['visitor_id', 'orders']\n",
    "\n",
    "ordersByUsersB = (\n",
    "    orders[orders['group'] == 'B']\n",
    "    .groupby('visitor_id', as_index=False)\n",
    "    .agg({'transaction_id': pd.Series.nunique})\n",
    ")\n",
    "ordersByUsersB.columns = ['visitor_id', 'orders'] "
   ]
  },
  {
   "cell_type": "code",
   "execution_count": 41,
   "id": "ae732066",
   "metadata": {},
   "outputs": [],
   "source": [
    "#Объявим переменные sampleA и sampleB, в которых пользователям из разных групп будет соответствовать количество заказов\n",
    "sampleA = pd.concat(\n",
    "    [\n",
    "        ordersByUsersA['orders'],\n",
    "        pd.Series(\n",
    "            0,\n",
    "            index=np.arange(\n",
    "                data['visitorsPerDateA'].sum() - len(ordersByUsersA['orders'])\n",
    "            ),\n",
    "            name='orders',\n",
    "        ),\n",
    "    ],\n",
    "    axis=0,\n",
    ")\n",
    "\n",
    "sampleB = pd.concat(\n",
    "    [\n",
    "        ordersByUsersB['orders'],\n",
    "        pd.Series(\n",
    "            0,\n",
    "            index=np.arange(\n",
    "                data['visitorsPerDateB'].sum() - len(ordersByUsersB['orders'])\n",
    "            ),\n",
    "            name='orders',\n",
    "        ),\n",
    "    ],\n",
    "    axis=0,\n",
    ")"
   ]
  },
  {
   "cell_type": "markdown",
   "id": "66e713ad",
   "metadata": {},
   "source": [
    "Для сравнения гипотез посчитаем их статистическую значимость, применим метод Манна-Уитни.Значение alpha = 0.05."
   ]
  },
  {
   "cell_type": "code",
   "execution_count": 42,
   "id": "8dc575b0",
   "metadata": {},
   "outputs": [
    {
     "name": "stdout",
     "output_type": "stream",
     "text": [
      "p-value: 0.038\n",
      "\n",
      "Относительный прирост среднего числа заказов группы B: 0.122\n"
     ]
    }
   ],
   "source": [
    "print('p-value:',\"{0:.3f}\".format(stats.mannwhitneyu(sampleA, sampleB)[1]))\n",
    "print()\n",
    "print('Относительный прирост среднего числа заказов группы B:',\"{0:.3f}\".format(sampleB.mean() / sampleA.mean() - 1))"
   ]
  },
  {
   "cell_type": "markdown",
   "id": "c9a44f7d",
   "metadata": {},
   "source": [
    "p-value = 0.038 - меньше 0.05. Значит, нулевую гипотезу о том, что статистически значимых различий в среднем числе заказов между группами нет, <b>отвергаем</b>. Однако относительное различие между группами равно всего 12,2%. Cреднее количество заказов группы B несколько выше количества заказов группы A."
   ]
  },
  {
   "cell_type": "markdown",
   "id": "d1715e62",
   "metadata": {},
   "source": [
    "##### Посчитаем статистическую значимость различий в среднем чеке заказа между группами по «сырым» данным\n",
    "Сформулируем гипотезы. \n",
    "- Нулевая: Статистически значимых различий в среднем чеке заказа между группами по «сырым» данным нет. \n",
    "- Альтернативная: Статистически значимые различия в среднем чеке заказа между группами по «сырым» данным есть."
   ]
  },
  {
   "cell_type": "code",
   "execution_count": 43,
   "id": "2817a1f1",
   "metadata": {},
   "outputs": [
    {
     "name": "stdout",
     "output_type": "stream",
     "text": [
      "p-value: 0.734\n",
      "\n",
      "Относительный прирост среднего чека заказа группы B: 0.295\n"
     ]
    }
   ],
   "source": [
    "print('p-value:','{0:.3f}'.format(stats.mannwhitneyu(orders[orders['group']=='A']['revenue'],\\\n",
    "                                                      orders[orders['group']=='B']['revenue'])[1]))\n",
    "print()\n",
    "print('Относительный прирост среднего чека заказа группы B:','{0:.3f}'.format(orders[orders['group']=='B']['revenue']\n",
    "                                                                               .mean()/orders[orders['group']=='A']['revenue']\n",
    "                                                                               .mean()-1))"
   ]
  },
  {
   "cell_type": "markdown",
   "id": "39e1ff04",
   "metadata": {},
   "source": [
    "p-value = 0.734 больше 0.05. Значит, нулевую гипотезу о том, что статистически значимых различий в среднем чеке заказа между группами нет, <b>не отвергаем</b>. Относительное различие среднего чека между сегментами 29.5%."
   ]
  },
  {
   "cell_type": "markdown",
   "id": "1686dfd4",
   "metadata": {},
   "source": [
    "#### Уберём аномальные значения - \"очистим\" данные\n",
    "Примем за аномальных пользователей тех, кто совершил от 2 заказов или совершил заказ дороже 28 000 рублей. Так мы уберём 5% пользователей с наибольшим числом заказов и 5% пользователей с дорогими заказами. Сделаем срезы пользователей с числом заказов больше 2 — usersWithManyOrders и пользователей, совершивших заказы дороже 28 000 — usersWithExpensiveOrders. Объединим их в таблице abnormalUsers. "
   ]
  },
  {
   "cell_type": "markdown",
   "id": "f97c4e9d",
   "metadata": {},
   "source": [
    "##### Узнаем, сколько всего аномальных пользователей"
   ]
  },
  {
   "cell_type": "code",
   "execution_count": 44,
   "id": "544c0daf",
   "metadata": {},
   "outputs": [
    {
     "data": {
      "text/plain": [
       "1041    148427295\n",
       "18      199603092\n",
       "882     204675465\n",
       "23      237748145\n",
       "36      249864742\n",
       "Name: visitor_id, dtype: int64"
      ]
     },
     "metadata": {},
     "output_type": "display_data"
    },
    {
     "data": {
      "text/plain": [
       "72"
      ]
     },
     "metadata": {},
     "output_type": "display_data"
    }
   ],
   "source": [
    "usersWithManyOrders = pd.concat(\n",
    "    [\n",
    "        ordersByUsersA[ordersByUsersA['orders'] > np.percentile(ordersByUsers['orders'], 95)]['visitor_id'],\n",
    "        ordersByUsersB[ordersByUsersB['orders'] > np.percentile(ordersByUsers['orders'], 95)]['visitor_id'],\n",
    "    ],\n",
    "    axis=0,\n",
    ")\n",
    "usersWithExpensiveOrders = orders[orders['revenue'] > np.percentile(revenueByOrders['revenue'], 95)]['visitor_id']\n",
    "abnormalUsers = (\n",
    "    pd.concat([usersWithManyOrders, usersWithExpensiveOrders], axis=0)\n",
    "    .drop_duplicates()\n",
    "    .sort_values()\n",
    ")\n",
    "display(abnormalUsers.head(5))\n",
    "display(abnormalUsers.shape[0])"
   ]
  },
  {
   "cell_type": "markdown",
   "id": "6ad2b4bb",
   "metadata": {},
   "source": [
    "Всего 72 аномальных пользователя. "
   ]
  },
  {
   "cell_type": "markdown",
   "id": "f7fa0798",
   "metadata": {},
   "source": [
    "##### Посчитаем статистическую значимость различий в среднем количестве заказов на посетителя между группами по «очищенным» данным\n",
    "Сформулируем гипотезы. \n",
    "- Нулевая: Статистически значимых различий в среднем количестве заказов между группами по «очищенным» данным нет. \n",
    "- Альтернативная: Статистически значимые различия в среднем между группами по «очищенным» данным есть."
   ]
  },
  {
   "cell_type": "code",
   "execution_count": 45,
   "id": "1b51ea22",
   "metadata": {},
   "outputs": [],
   "source": [
    "#Обновим переменные sampleA и sampleB, в которых пользователям из разных групп будет соответствовать количество заказов\n",
    "sampleAFiltered = pd.concat(\n",
    "    [\n",
    "        ordersByUsersA[\n",
    "            np.logical_not(ordersByUsersA['visitor_id'].isin(abnormalUsers))\n",
    "        ]['orders'],\n",
    "        pd.Series(\n",
    "            0,\n",
    "            index=np.arange(\n",
    "                data['visitorsPerDateA'].sum() - len(ordersByUsersA['orders'])\n",
    "            ),\n",
    "            name='orders',\n",
    "        ),\n",
    "    ],\n",
    "    axis=0,\n",
    ")\n",
    "\n",
    "sampleBFiltered = pd.concat(\n",
    "    [\n",
    "        ordersByUsersB[\n",
    "            np.logical_not(ordersByUsersB['visitor_id'].isin(abnormalUsers))\n",
    "        ]['orders'],\n",
    "        pd.Series(\n",
    "            0,\n",
    "            index=np.arange(\n",
    "                data['visitorsPerDateB'].sum() - len(ordersByUsersB['orders'])\n",
    "            ),\n",
    "            name='orders',\n",
    "        ),\n",
    "    ],\n",
    "    axis=0,\n",
    ")"
   ]
  },
  {
   "cell_type": "code",
   "execution_count": 46,
   "id": "140b6572",
   "metadata": {},
   "outputs": [
    {
     "data": {
      "text/plain": [
       "'p-value:'"
      ]
     },
     "metadata": {},
     "output_type": "display_data"
    },
    {
     "data": {
      "text/plain": [
       "'0.034'"
      ]
     },
     "metadata": {},
     "output_type": "display_data"
    },
    {
     "name": "stdout",
     "output_type": "stream",
     "text": [
      "\n"
     ]
    },
    {
     "data": {
      "text/plain": [
       "'Относительный прирост среднего числа заказов группы B:'"
      ]
     },
     "metadata": {},
     "output_type": "display_data"
    },
    {
     "data": {
      "text/plain": [
       "'0.150'"
      ]
     },
     "metadata": {},
     "output_type": "display_data"
    }
   ],
   "source": [
    "display('p-value:','{0:.3f}'.format(stats.mannwhitneyu(sampleAFiltered, sampleBFiltered)[1]))\n",
    "print()\n",
    "display('Относительный прирост среднего числа заказов группы B:','{0:.3f}'.format(sampleBFiltered.mean()\\\n",
    "                                                                                 /sampleAFiltered.mean()-1))"
   ]
  },
  {
   "cell_type": "markdown",
   "id": "964f6026",
   "metadata": {},
   "source": [
    "p-value = 0.034 - меньше 0.05. Значит, нулевую гипотезу о том, что статистически значимых различий в среднем числе заказов между группами нет, отвергаем. Относительное различие между группами равно 15%. Cреднее количество заказов группы B несколько выше количества заказов группы A. Результаты по среднему количеству заказов практически не изменились. Прошлый p-value составлял 0.038, а относительный прирост - 0.122. "
   ]
  },
  {
   "cell_type": "markdown",
   "id": "a43ce95e",
   "metadata": {},
   "source": [
    "##### Посчитаем статистическую значимость различий в среднем чеке заказа между группами по «очищенным» данным\n",
    "Сформулируем гипотезы. \n",
    "- Нулевая: Статистически значимых различий в среднем чеке заказа между группами по «очищенным» данным нет. \n",
    "- Альтернативная: Статистически значимые различия в среднем чеке заказа между группами по «очищенным» данным есть."
   ]
  },
  {
   "cell_type": "code",
   "execution_count": 47,
   "id": "dc5bdd86",
   "metadata": {},
   "outputs": [
    {
     "name": "stdout",
     "output_type": "stream",
     "text": [
      "0.633\n",
      "-0.027\n"
     ]
    }
   ],
   "source": [
    "print(\n",
    "    '{0:.3f}'.format(\n",
    "        stats.mannwhitneyu(\n",
    "            orders[\n",
    "                np.logical_and(\n",
    "                    orders['group'] == 'A',\n",
    "                    np.logical_not(orders['visitor_id'].isin(abnormalUsers)),\n",
    "                )\n",
    "            ]['revenue'],\n",
    "            orders[\n",
    "                np.logical_and(\n",
    "                    orders['group'] == 'B',\n",
    "                    np.logical_not(orders['visitor_id'].isin(abnormalUsers)),\n",
    "                )\n",
    "            ]['revenue'],\n",
    "        )[1]\n",
    "    )\n",
    ")\n",
    "\n",
    "print(\n",
    "    \"{0:.3f}\".format(\n",
    "        orders[\n",
    "            np.logical_and(\n",
    "                orders['group'] == 'B',\n",
    "                np.logical_not(orders['visitor_id'].isin(abnormalUsers)),\n",
    "            )\n",
    "        ]['revenue'].mean()\n",
    "        / orders[\n",
    "            np.logical_and(\n",
    "                orders['group'] == 'A',\n",
    "                np.logical_not(orders['visitor_id'].isin(abnormalUsers)),\n",
    "            )\n",
    "        ]['revenue'].mean()\n",
    "        - 1\n",
    "    )\n",
    ")"
   ]
  },
  {
   "cell_type": "markdown",
   "id": "94f615a6",
   "metadata": {},
   "source": [
    "Р-value = 0.633 - больше 0.05. Значит, нулевую гипотезу о том, что статистически значимых различий в среднем чеке заказа между группами нет, не отвергаем. Относительное различие среднего чека между сегментами 2.7%.\n",
    "P-value почти не изменился: раньше был 0.734, но разница между сегментами сократилась с 29.5% до 2.7%. Интересно, что относительное различие между группами \"перевернулось\": если раньше средний чек группы B был значительно выше среднего чека группы A, то теперь разница почти пропала, однако группа А стала выше группы В по данному показателю."
   ]
  },
  {
   "cell_type": "markdown",
   "id": "a9bb927a",
   "metadata": {},
   "source": [
    "#### Выводы по разделу"
   ]
  },
  {
   "cell_type": "markdown",
   "id": "25116e7f",
   "metadata": {},
   "source": [
    "На основании проведённого исследования можно сделать следующие выводы:\n",
    "- Статистически значимое различие по среднему количеству заказов между группами и по «сырым», и по данным после фильтрации аномалий есть - среднее количество заказов группы B на 12,2% выше количества заказов группы A;\n",
    "- Нет статистически значимого различия по среднему чеку между группами ни по «сырым», ни по данным после фильтрации аномалий;\n",
    "- График различия среднего количества заказов между группами сообщает, что результаты группы А хуже группы В и нет значительной тенденции к улучшению:\n",
    "- График различия среднего чека говорит о том, что результаты группы B значительно улучшились в середине теста и сейчас продолжают улучшаться.\n",
    "<p></p>\n",
    "<p>На основании расчётов, проведённых с помощью  <a href=\"http://www.evanmiller.org/ab-testing/sample-size.html\">калькулятора размера выборки VWO</a>, необходимо было продолжать тест минимум в течение 22 дней для увеличения конверсии на 20%, он проводился в течение 30 дней. Исходя из обнаруженных фактов, тест следует завершить и признать успешным. Поскольку сегмент В начал показывать лучшие результаты примерно с середины периода проведения теста и стабилизировался в данном положении до его окончания, значит нововведения возымели успех среди посетителей и их стоит принять."
   ]
  },
  {
   "cell_type": "markdown",
   "id": "56f67ea5",
   "metadata": {},
   "source": [
    "### Вывод"
   ]
  },
  {
   "cell_type": "markdown",
   "id": "18631856",
   "metadata": {},
   "source": [
    "<p><b>Изучив полученные данные, можно сформировать следующие выводы:</b></p>\n",
    "\n",
    "Данные качественные, без пропусков и дубликатов. Изучаемый период - с 1 по 31 августа 2019г. - всего за 30 дней;\n",
    "<p>Относительно изучаемых гипотез и их приоритезации:</p>\n",
    "<p> </p>\n",
    " \n",
    "- При применении фреймворка ICE наиболее приоритетными являются 3 гипотезы, среди которых наиболее приоритетной можно обозначить \"Запустить акцию, дающую скидку на товар в день рождения\", имеющую наибольшее значение ICE - 16,2.\n",
    "- При применении фреймворка RICE наиболее приоритетной гипотезой является \"Добавить форму подписки на все основные страницы, чтобы собрать базу клиентов для email-рассылок\". Показатель RICE для неё в 2 раза превышает таковой для следующей по приоритетности гипотезы и составляет 112. Также, как наиболее приоритетные можно выделить ещё 3 гипотезы, имеющие высокий показатель RICE: 56,40 и 40 соответственно.\n",
    "- Стоит отметить, что для двух фреймворков распределение гипотез по приоритетности различается. Это произошло, поскольку некоторые гипотезы, подразумевающие значительные изменения при достаточно низуих затратах могут затрагивать лишь небольшое количество пользователей. Поэтому при добавлении показателя \"reach\" значительно меняется приоритезация.\n",
    "<p> </p>\n",
    "<p>___________________________________________________________________________________________________________________________</p>\n",
    "<p> </p>\n",
    "<b>Относительно проводимого A/B тестирования</b>\n",
    "<p>При визуализации результатов тестирования: были выявлены следующие закономерности</p>\n",
    "<p> </p>\n",
    " \n",
    "- Выручка почти равномерно увеличивается в течение всего теста. Стоит также отметить, что группа В стабильно лидирует на протяжении всего теста. Однако график выручки группы В резко возрастает в августе. Это может сигнализировать о всплесках числа заказов, либо о появлении очень дорогих заказов в выборке, от них неоходимо избавиться.\n",
    "- Средний чек становится равномерным ближе к концу теста: установился для группы A и падает после резкого скачка для группы B. Возможно, в группу B во второй половине теста попали крупные заказы.\n",
    "- Результаты теста значительно и резко менялись в несколько дат. Видимо, именно тогда были совершены аномальные заказы. Особенно стоит обратить внимание на скачки в начале и конце августа, а также резкий провал 13 числа.\n",
    "- Cреднее количество заказов на посетителя становится равномерным ближе к концу теста: установился для группы A и группы B. Причём для группы В он стабильно выше. Возможно, в обе группы в первой половине теста попали крупные заказы.\n",
    "- Результаты теста значительно и резко менялись в несколько раз в начале теста, затем виден значительный прирост и стабилизация. Видимо, в начале теста было совершено аномальное количество заказов или было малое количество посетителей.\n",
    "<p> </p>\n",
    "<p>___________________________________________________________________________________________________________________________</p>\n",
    "<p>При изучении данных были выделены следующие аномалии:</p>\n",
    "<p> </p>\n",
    " \n",
    "- Много пользователей с 2-5 заказами. Их точная доля не ясна — непонятно, считать их аномалиями или нет.\n",
    "- Не более 5% пользователей оформляли больше чем 2 заказа. Выбререм 2-3 заказа на одного пользователя за верхнюю границу числа заказов, и отсеим аномальных пользователей по ней.\n",
    "- Большинство заказов совершено на сумму в районе 0-15000 усл.ед. Есть выбросы в районе 20000 и 130000 усл.ед.\n",
    "- Не более 5% заказов стоили больше чем 28000 усл.ед. Выбререм 28000 усл.ед на один заказ за верхнюю границу стоимости заказа, и отсеим аномальные заказы по ней.\n",
    "<p> </p>\n",
    "<p>___________________________________________________________________________________________________________________________</p>\n",
    "<p>При проверке статистической значимости гипотез:</p>\n",
    "<p> </p>\n",
    " \n",
    "- Статистически значимое различие по среднему количеству заказов между группами и по «сырым», и по данным после фильтрации аномалий есть - среднее количество заказов группы B на 12,2% выше количества заказов группы A;\n",
    "- Нет статистически значимого различия по среднему чеку между группами ни по «сырым», ни по данным после фильтрации аномалий;\n",
    "- График различия среднего количества заказов между группами сообщает, что результаты группы А хуже группы В и нет значительной тенденции к улучшению:\n",
    "- График различия среднего чека говорит о том, что результаты группы B значительно улучшились в середине теста и сейчас продолжают улучшаться.\n",
    "<p> </p>\n",
    "<p>___________________________________________________________________________________________________________________________</p>\n",
    "<b>Суммируя вышесказанное стоит отметить, что а основании расчётов, проведённых с помощью  <a href=\"http://www.evanmiller.org/ab-testing/sample-size.html\">калькулятора размера выборки VWO</a>, необходимо было продолжать тест минимум в течение 22 дней для увеличения конверсии на 20%, он проводился в течение 30 дней. Исходя из обнаруженных фактов, тест следует завершить и признать успешным. Поскольку сегмент В начал показывать лучшие результаты примерно с середины периода проведения теста и стабилизировался в данном положении до его окончания, значит нововведения возымели успех среди посетителей и их стоит принять."
   ]
  }
 ],
 "metadata": {
  "ExecuteTimeLog": [
   {
    "duration": 1121,
    "start_time": "2023-08-29T02:55:38.954Z"
   },
   {
    "duration": 96,
    "start_time": "2023-08-29T02:55:40.077Z"
   },
   {
    "duration": 37,
    "start_time": "2023-08-29T02:55:40.175Z"
   },
   {
    "duration": 28,
    "start_time": "2023-08-29T02:55:40.214Z"
   },
   {
    "duration": 37,
    "start_time": "2023-08-29T02:55:40.245Z"
   },
   {
    "duration": 44,
    "start_time": "2023-08-29T02:55:40.284Z"
   },
   {
    "duration": 25,
    "start_time": "2023-08-29T02:55:40.330Z"
   },
   {
    "duration": 12,
    "start_time": "2023-08-29T02:55:40.356Z"
   },
   {
    "duration": 701,
    "start_time": "2023-08-29T02:55:40.370Z"
   },
   {
    "duration": 29,
    "start_time": "2023-08-29T02:55:41.073Z"
   },
   {
    "duration": 13,
    "start_time": "2023-08-29T02:55:41.104Z"
   },
   {
    "duration": 7,
    "start_time": "2023-08-29T02:55:41.119Z"
   },
   {
    "duration": 7,
    "start_time": "2023-08-29T02:55:41.127Z"
   },
   {
    "duration": 6,
    "start_time": "2023-08-29T02:55:41.137Z"
   },
   {
    "duration": 59,
    "start_time": "2023-08-29T02:55:41.144Z"
   },
   {
    "duration": 38,
    "start_time": "2023-08-29T02:55:41.205Z"
   },
   {
    "duration": 29,
    "start_time": "2023-08-29T02:55:41.245Z"
   },
   {
    "duration": 16,
    "start_time": "2023-08-29T02:55:41.276Z"
   },
   {
    "duration": 123,
    "start_time": "2023-08-29T02:55:41.294Z"
   },
   {
    "duration": 127,
    "start_time": "2023-08-29T02:55:41.419Z"
   },
   {
    "duration": 155,
    "start_time": "2023-08-29T02:55:41.548Z"
   },
   {
    "duration": 154,
    "start_time": "2023-08-29T02:55:41.705Z"
   },
   {
    "duration": 5,
    "start_time": "2023-08-29T02:55:41.861Z"
   },
   {
    "duration": 65,
    "start_time": "2023-08-29T02:55:41.868Z"
   },
   {
    "duration": 13,
    "start_time": "2023-08-29T02:55:41.936Z"
   },
   {
    "duration": 21,
    "start_time": "2023-08-29T02:55:41.951Z"
   },
   {
    "duration": 749,
    "start_time": "2023-08-29T02:55:41.974Z"
   },
   {
    "duration": 300,
    "start_time": "2023-08-29T02:55:42.724Z"
   },
   {
    "duration": 382,
    "start_time": "2023-08-29T02:55:43.026Z"
   },
   {
    "duration": 316,
    "start_time": "2023-08-29T02:55:43.410Z"
   },
   {
    "duration": 374,
    "start_time": "2023-08-29T02:55:43.729Z"
   },
   {
    "duration": 202,
    "start_time": "2023-08-29T02:55:44.106Z"
   },
   {
    "duration": 7,
    "start_time": "2023-08-29T02:55:44.310Z"
   },
   {
    "duration": 211,
    "start_time": "2023-08-29T02:55:44.320Z"
   },
   {
    "duration": 9,
    "start_time": "2023-08-29T02:55:44.536Z"
   },
   {
    "duration": 307,
    "start_time": "2023-08-29T02:55:44.547Z"
   },
   {
    "duration": 169,
    "start_time": "2023-08-29T02:55:44.856Z"
   },
   {
    "duration": 7,
    "start_time": "2023-08-29T02:55:45.027Z"
   },
   {
    "duration": 105,
    "start_time": "2023-08-29T02:55:45.035Z"
   },
   {
    "duration": 15,
    "start_time": "2023-08-29T02:55:45.142Z"
   },
   {
    "duration": 34,
    "start_time": "2023-08-29T02:55:45.160Z"
   },
   {
    "duration": 22,
    "start_time": "2023-08-29T02:55:45.196Z"
   },
   {
    "duration": 118,
    "start_time": "2023-08-29T02:55:45.220Z"
   },
   {
    "duration": 37,
    "start_time": "2023-08-29T02:55:45.340Z"
   },
   {
    "duration": 41,
    "start_time": "2023-08-29T03:06:40.003Z"
   },
   {
    "duration": 26,
    "start_time": "2023-08-29T03:06:45.218Z"
   },
   {
    "duration": 30,
    "start_time": "2023-08-29T03:06:50.063Z"
   },
   {
    "duration": 1393,
    "start_time": "2023-08-29T13:25:30.238Z"
   },
   {
    "duration": 198,
    "start_time": "2023-08-29T13:25:31.633Z"
   },
   {
    "duration": 25,
    "start_time": "2023-08-29T13:25:31.835Z"
   },
   {
    "duration": 30,
    "start_time": "2023-08-29T13:25:31.863Z"
   },
   {
    "duration": 25,
    "start_time": "2023-08-29T13:25:31.894Z"
   },
   {
    "duration": 37,
    "start_time": "2023-08-29T13:25:31.921Z"
   },
   {
    "duration": 43,
    "start_time": "2023-08-29T13:25:31.960Z"
   },
   {
    "duration": 42,
    "start_time": "2023-08-29T13:25:32.004Z"
   },
   {
    "duration": 733,
    "start_time": "2023-08-29T13:25:32.048Z"
   },
   {
    "duration": 16,
    "start_time": "2023-08-29T13:25:32.783Z"
   },
   {
    "duration": 25,
    "start_time": "2023-08-29T13:25:32.800Z"
   },
   {
    "duration": 33,
    "start_time": "2023-08-29T13:25:32.827Z"
   },
   {
    "duration": 8,
    "start_time": "2023-08-29T13:25:32.863Z"
   },
   {
    "duration": 42,
    "start_time": "2023-08-29T13:25:32.873Z"
   },
   {
    "duration": 48,
    "start_time": "2023-08-29T13:25:32.917Z"
   },
   {
    "duration": 43,
    "start_time": "2023-08-29T13:25:32.967Z"
   },
   {
    "duration": 8,
    "start_time": "2023-08-29T13:25:33.012Z"
   },
   {
    "duration": 9,
    "start_time": "2023-08-29T13:25:33.022Z"
   },
   {
    "duration": 27,
    "start_time": "2023-08-29T13:25:33.033Z"
   },
   {
    "duration": 5,
    "start_time": "2023-08-29T13:25:33.062Z"
   },
   {
    "duration": 145,
    "start_time": "2023-08-29T13:25:33.069Z"
   },
   {
    "duration": 139,
    "start_time": "2023-08-29T13:25:33.216Z"
   },
   {
    "duration": 147,
    "start_time": "2023-08-29T13:25:33.359Z"
   },
   {
    "duration": 131,
    "start_time": "2023-08-29T13:25:33.508Z"
   },
   {
    "duration": 5,
    "start_time": "2023-08-29T13:25:33.640Z"
   },
   {
    "duration": 81,
    "start_time": "2023-08-29T13:25:33.647Z"
   },
   {
    "duration": 14,
    "start_time": "2023-08-29T13:25:33.729Z"
   },
   {
    "duration": 24,
    "start_time": "2023-08-29T13:25:33.744Z"
   },
   {
    "duration": 794,
    "start_time": "2023-08-29T13:25:33.769Z"
   },
   {
    "duration": 303,
    "start_time": "2023-08-29T13:25:34.565Z"
   },
   {
    "duration": 418,
    "start_time": "2023-08-29T13:25:34.869Z"
   },
   {
    "duration": 324,
    "start_time": "2023-08-29T13:25:35.289Z"
   },
   {
    "duration": 375,
    "start_time": "2023-08-29T13:25:35.615Z"
   },
   {
    "duration": 193,
    "start_time": "2023-08-29T13:25:35.991Z"
   },
   {
    "duration": 6,
    "start_time": "2023-08-29T13:25:36.186Z"
   },
   {
    "duration": 200,
    "start_time": "2023-08-29T13:25:36.193Z"
   },
   {
    "duration": 236,
    "start_time": "2023-08-29T13:25:36.394Z"
   },
   {
    "duration": 6,
    "start_time": "2023-08-29T13:25:36.632Z"
   },
   {
    "duration": 85,
    "start_time": "2023-08-29T13:25:36.640Z"
   },
   {
    "duration": 150,
    "start_time": "2023-08-29T13:25:36.729Z"
   },
   {
    "duration": 7,
    "start_time": "2023-08-29T13:25:36.881Z"
   },
   {
    "duration": 58,
    "start_time": "2023-08-29T13:25:36.889Z"
   },
   {
    "duration": 15,
    "start_time": "2023-08-29T13:25:36.949Z"
   },
   {
    "duration": 47,
    "start_time": "2023-08-29T13:25:36.966Z"
   },
   {
    "duration": 36,
    "start_time": "2023-08-29T13:25:37.015Z"
   },
   {
    "duration": 166,
    "start_time": "2023-08-29T13:25:37.053Z"
   },
   {
    "duration": 21,
    "start_time": "2023-08-29T13:25:37.221Z"
   },
   {
    "duration": 1233,
    "start_time": "2023-08-29T13:26:48.227Z"
   },
   {
    "duration": 79,
    "start_time": "2023-08-29T13:26:49.462Z"
   },
   {
    "duration": 29,
    "start_time": "2023-08-29T13:26:49.542Z"
   },
   {
    "duration": 30,
    "start_time": "2023-08-29T13:26:49.573Z"
   },
   {
    "duration": 4,
    "start_time": "2023-08-29T13:26:49.605Z"
   },
   {
    "duration": 16,
    "start_time": "2023-08-29T13:26:49.611Z"
   },
   {
    "duration": 39,
    "start_time": "2023-08-29T13:26:49.628Z"
   },
   {
    "duration": 10,
    "start_time": "2023-08-29T13:26:49.669Z"
   },
   {
    "duration": 745,
    "start_time": "2023-08-29T13:26:49.681Z"
   },
   {
    "duration": 34,
    "start_time": "2023-08-29T13:26:50.429Z"
   },
   {
    "duration": 16,
    "start_time": "2023-08-29T13:26:50.465Z"
   },
   {
    "duration": 9,
    "start_time": "2023-08-29T13:26:50.483Z"
   },
   {
    "duration": 22,
    "start_time": "2023-08-29T13:26:50.493Z"
   },
   {
    "duration": 15,
    "start_time": "2023-08-29T13:26:50.517Z"
   },
   {
    "duration": 33,
    "start_time": "2023-08-29T13:26:50.533Z"
   },
   {
    "duration": 48,
    "start_time": "2023-08-29T13:26:50.568Z"
   },
   {
    "duration": 27,
    "start_time": "2023-08-29T13:26:50.617Z"
   },
   {
    "duration": 7,
    "start_time": "2023-08-29T13:26:50.645Z"
   },
   {
    "duration": 20,
    "start_time": "2023-08-29T13:26:50.653Z"
   },
   {
    "duration": 16,
    "start_time": "2023-08-29T13:26:50.675Z"
   },
   {
    "duration": 177,
    "start_time": "2023-08-29T13:26:50.693Z"
   },
   {
    "duration": 127,
    "start_time": "2023-08-29T13:26:50.872Z"
   },
   {
    "duration": 147,
    "start_time": "2023-08-29T13:26:51.001Z"
   },
   {
    "duration": 134,
    "start_time": "2023-08-29T13:26:51.151Z"
   },
   {
    "duration": 5,
    "start_time": "2023-08-29T13:26:51.287Z"
   },
   {
    "duration": 69,
    "start_time": "2023-08-29T13:26:51.294Z"
   },
   {
    "duration": 14,
    "start_time": "2023-08-29T13:26:51.365Z"
   },
   {
    "duration": 40,
    "start_time": "2023-08-29T13:26:51.382Z"
   },
   {
    "duration": 718,
    "start_time": "2023-08-29T13:26:51.424Z"
   },
   {
    "duration": 292,
    "start_time": "2023-08-29T13:26:52.143Z"
   },
   {
    "duration": 409,
    "start_time": "2023-08-29T13:26:52.437Z"
   },
   {
    "duration": 329,
    "start_time": "2023-08-29T13:26:52.849Z"
   },
   {
    "duration": 381,
    "start_time": "2023-08-29T13:26:53.180Z"
   },
   {
    "duration": 180,
    "start_time": "2023-08-29T13:26:53.563Z"
   },
   {
    "duration": 5,
    "start_time": "2023-08-29T13:26:53.745Z"
   },
   {
    "duration": 195,
    "start_time": "2023-08-29T13:26:53.751Z"
   },
   {
    "duration": 268,
    "start_time": "2023-08-29T13:26:53.948Z"
   },
   {
    "duration": 6,
    "start_time": "2023-08-29T13:26:54.218Z"
   },
   {
    "duration": 67,
    "start_time": "2023-08-29T13:26:54.227Z"
   },
   {
    "duration": 155,
    "start_time": "2023-08-29T13:26:54.296Z"
   },
   {
    "duration": 10,
    "start_time": "2023-08-29T13:26:54.453Z"
   },
   {
    "duration": 122,
    "start_time": "2023-08-29T13:26:54.465Z"
   },
   {
    "duration": 11,
    "start_time": "2023-08-29T13:26:54.589Z"
   },
   {
    "duration": 26,
    "start_time": "2023-08-29T13:26:54.601Z"
   },
   {
    "duration": 8,
    "start_time": "2023-08-29T13:26:54.629Z"
   },
   {
    "duration": 37,
    "start_time": "2023-08-29T13:26:54.639Z"
   },
   {
    "duration": 16,
    "start_time": "2023-08-29T13:26:54.678Z"
   },
   {
    "duration": 1215,
    "start_time": "2023-08-29T13:33:09.195Z"
   },
   {
    "duration": 79,
    "start_time": "2023-08-29T13:33:10.412Z"
   },
   {
    "duration": 26,
    "start_time": "2023-08-29T13:33:10.492Z"
   },
   {
    "duration": 32,
    "start_time": "2023-08-29T13:33:10.520Z"
   },
   {
    "duration": 19,
    "start_time": "2023-08-29T13:33:10.554Z"
   },
   {
    "duration": 21,
    "start_time": "2023-08-29T13:33:10.574Z"
   },
   {
    "duration": 42,
    "start_time": "2023-08-29T13:33:10.596Z"
   },
   {
    "duration": 33,
    "start_time": "2023-08-29T13:33:10.639Z"
   },
   {
    "duration": 719,
    "start_time": "2023-08-29T13:33:10.673Z"
   },
   {
    "duration": 17,
    "start_time": "2023-08-29T13:33:11.394Z"
   },
   {
    "duration": 47,
    "start_time": "2023-08-29T13:33:11.413Z"
   },
   {
    "duration": 8,
    "start_time": "2023-08-29T13:33:11.462Z"
   },
   {
    "duration": 26,
    "start_time": "2023-08-29T13:33:11.472Z"
   },
   {
    "duration": 12,
    "start_time": "2023-08-29T13:33:11.501Z"
   },
   {
    "duration": 18,
    "start_time": "2023-08-29T13:33:11.514Z"
   },
   {
    "duration": 27,
    "start_time": "2023-08-29T13:33:11.534Z"
   },
   {
    "duration": 8,
    "start_time": "2023-08-29T13:33:11.562Z"
   },
   {
    "duration": 12,
    "start_time": "2023-08-29T13:33:11.572Z"
   },
   {
    "duration": 14,
    "start_time": "2023-08-29T13:33:11.585Z"
   },
   {
    "duration": 21,
    "start_time": "2023-08-29T13:33:11.600Z"
   },
   {
    "duration": 22,
    "start_time": "2023-08-29T13:33:11.622Z"
   },
   {
    "duration": 20,
    "start_time": "2023-08-29T13:33:11.646Z"
   },
   {
    "duration": 148,
    "start_time": "2023-08-29T13:33:11.668Z"
   },
   {
    "duration": 127,
    "start_time": "2023-08-29T13:33:11.818Z"
   },
   {
    "duration": 157,
    "start_time": "2023-08-29T13:33:11.946Z"
   },
   {
    "duration": 148,
    "start_time": "2023-08-29T13:33:12.105Z"
   },
   {
    "duration": 6,
    "start_time": "2023-08-29T13:33:12.258Z"
   },
   {
    "duration": 95,
    "start_time": "2023-08-29T13:33:12.266Z"
   },
   {
    "duration": 14,
    "start_time": "2023-08-29T13:33:12.363Z"
   },
   {
    "duration": 23,
    "start_time": "2023-08-29T13:33:12.380Z"
   },
   {
    "duration": 1570,
    "start_time": "2023-08-29T13:33:12.404Z"
   },
   {
    "duration": 440,
    "start_time": "2023-08-29T13:33:13.976Z"
   },
   {
    "duration": 397,
    "start_time": "2023-08-29T13:33:14.417Z"
   },
   {
    "duration": 318,
    "start_time": "2023-08-29T13:33:14.815Z"
   },
   {
    "duration": 432,
    "start_time": "2023-08-29T13:33:15.135Z"
   },
   {
    "duration": 184,
    "start_time": "2023-08-29T13:33:15.569Z"
   },
   {
    "duration": 5,
    "start_time": "2023-08-29T13:33:15.758Z"
   },
   {
    "duration": 212,
    "start_time": "2023-08-29T13:33:15.765Z"
   },
   {
    "duration": 223,
    "start_time": "2023-08-29T13:33:15.979Z"
   },
   {
    "duration": 5,
    "start_time": "2023-08-29T13:33:16.205Z"
   },
   {
    "duration": 79,
    "start_time": "2023-08-29T13:33:16.214Z"
   },
   {
    "duration": 152,
    "start_time": "2023-08-29T13:33:16.295Z"
   },
   {
    "duration": 14,
    "start_time": "2023-08-29T13:33:16.449Z"
   },
   {
    "duration": 41,
    "start_time": "2023-08-29T13:33:16.465Z"
   },
   {
    "duration": 36,
    "start_time": "2023-08-29T13:33:16.508Z"
   },
   {
    "duration": 35,
    "start_time": "2023-08-29T13:33:16.546Z"
   },
   {
    "duration": 22,
    "start_time": "2023-08-29T13:33:16.583Z"
   },
   {
    "duration": 41,
    "start_time": "2023-08-29T13:33:16.606Z"
   },
   {
    "duration": 13,
    "start_time": "2023-08-29T13:33:16.649Z"
   },
   {
    "duration": 6,
    "start_time": "2023-08-29T13:37:10.752Z"
   },
   {
    "duration": 109,
    "start_time": "2023-08-29T13:37:26.454Z"
   },
   {
    "duration": 7,
    "start_time": "2023-08-29T13:38:19.551Z"
   },
   {
    "duration": 9,
    "start_time": "2023-08-29T13:44:13.265Z"
   },
   {
    "duration": 5,
    "start_time": "2023-08-29T13:44:19.517Z"
   },
   {
    "duration": 5,
    "start_time": "2023-08-29T13:44:29.074Z"
   },
   {
    "duration": 10,
    "start_time": "2023-08-29T13:50:21.503Z"
   },
   {
    "duration": 5,
    "start_time": "2023-08-29T13:50:28.121Z"
   },
   {
    "duration": 5,
    "start_time": "2023-08-29T13:54:27.812Z"
   }
  ],
  "kernelspec": {
   "display_name": "Python 3 (ipykernel)",
   "language": "python",
   "name": "python3"
  },
  "language_info": {
   "codemirror_mode": {
    "name": "ipython",
    "version": 3
   },
   "file_extension": ".py",
   "mimetype": "text/x-python",
   "name": "python",
   "nbconvert_exporter": "python",
   "pygments_lexer": "ipython3",
   "version": "3.9.13"
  },
  "toc": {
   "base_numbering": 1,
   "nav_menu": {},
   "number_sections": true,
   "sideBar": true,
   "skip_h1_title": true,
   "title_cell": "Table of Contents",
   "title_sidebar": "Contents",
   "toc_cell": false,
   "toc_position": {
    "height": "calc(100% - 180px)",
    "left": "10px",
    "top": "150px",
    "width": "368.738px"
   },
   "toc_section_display": true,
   "toc_window_display": true
  }
 },
 "nbformat": 4,
 "nbformat_minor": 5
}
